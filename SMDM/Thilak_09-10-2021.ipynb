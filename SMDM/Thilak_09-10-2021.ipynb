{
 "cells": [
  {
   "cell_type": "code",
   "execution_count": 1,
   "id": "21c5745c",
   "metadata": {},
   "outputs": [],
   "source": [
    "import numpy as np\n",
    "import pandas as pd\n",
    "import matplotlib.pyplot as plt\n",
    "%matplotlib inline\n",
    "import seaborn as sns\n",
    "import warnings \n",
    "warnings.filterwarnings('ignore')\n",
    "import scipy.stats as stats"
   ]
  },
  {
   "cell_type": "code",
   "execution_count": 29,
   "id": "fd55d742",
   "metadata": {},
   "outputs": [],
   "source": [
    "sns.set()"
   ]
  },
  {
   "cell_type": "code",
   "execution_count": 66,
   "id": "786bffe7",
   "metadata": {},
   "outputs": [],
   "source": [
    "df=pd.read_csv('Wholesale+Customers+Data.csv')"
   ]
  },
  {
   "cell_type": "code",
   "execution_count": 217,
   "id": "a62235ba",
   "metadata": {},
   "outputs": [
    {
     "name": "stdout",
     "output_type": "stream",
     "text": [
      "<class 'pandas.core.frame.DataFrame'>\n",
      "RangeIndex: 440 entries, 0 to 439\n",
      "Data columns (total 8 columns):\n",
      " #   Column            Non-Null Count  Dtype \n",
      "---  ------            --------------  ----- \n",
      " 0   Channel           440 non-null    object\n",
      " 1   Region            440 non-null    object\n",
      " 2   Fresh             440 non-null    int64 \n",
      " 3   Milk              440 non-null    int64 \n",
      " 4   Grocery           440 non-null    int64 \n",
      " 5   Frozen            440 non-null    int64 \n",
      " 6   Detergents_Paper  440 non-null    int64 \n",
      " 7   Delicatessen      440 non-null    int64 \n",
      "dtypes: int64(6), object(2)\n",
      "memory usage: 27.6+ KB\n"
     ]
    }
   ],
   "source": [
    "df.info()"
   ]
  },
  {
   "cell_type": "code",
   "execution_count": 193,
   "id": "e605fb79",
   "metadata": {},
   "outputs": [
    {
     "data": {
      "text/plain": [
       "False"
      ]
     },
     "execution_count": 193,
     "metadata": {},
     "output_type": "execute_result"
    }
   ],
   "source": [
    "df.isnull().values.any()"
   ]
  },
  {
   "cell_type": "code",
   "execution_count": 216,
   "id": "847e2ba4",
   "metadata": {},
   "outputs": [
    {
     "data": {
      "text/html": [
       "<div>\n",
       "<style scoped>\n",
       "    .dataframe tbody tr th:only-of-type {\n",
       "        vertical-align: middle;\n",
       "    }\n",
       "\n",
       "    .dataframe tbody tr th {\n",
       "        vertical-align: top;\n",
       "    }\n",
       "\n",
       "    .dataframe thead th {\n",
       "        text-align: right;\n",
       "    }\n",
       "</style>\n",
       "<table border=\"1\" class=\"dataframe\">\n",
       "  <thead>\n",
       "    <tr style=\"text-align: right;\">\n",
       "      <th></th>\n",
       "      <th>Channel</th>\n",
       "      <th>Region</th>\n",
       "      <th>Fresh</th>\n",
       "      <th>Milk</th>\n",
       "      <th>Grocery</th>\n",
       "      <th>Frozen</th>\n",
       "      <th>Detergents_Paper</th>\n",
       "      <th>Delicatessen</th>\n",
       "    </tr>\n",
       "  </thead>\n",
       "  <tbody>\n",
       "    <tr>\n",
       "      <th>0</th>\n",
       "      <td>Retail</td>\n",
       "      <td>Other</td>\n",
       "      <td>12669</td>\n",
       "      <td>9656</td>\n",
       "      <td>7561</td>\n",
       "      <td>214</td>\n",
       "      <td>2674</td>\n",
       "      <td>1338</td>\n",
       "    </tr>\n",
       "    <tr>\n",
       "      <th>1</th>\n",
       "      <td>Retail</td>\n",
       "      <td>Other</td>\n",
       "      <td>7057</td>\n",
       "      <td>9810</td>\n",
       "      <td>9568</td>\n",
       "      <td>1762</td>\n",
       "      <td>3293</td>\n",
       "      <td>1776</td>\n",
       "    </tr>\n",
       "    <tr>\n",
       "      <th>2</th>\n",
       "      <td>Retail</td>\n",
       "      <td>Other</td>\n",
       "      <td>6353</td>\n",
       "      <td>8808</td>\n",
       "      <td>7684</td>\n",
       "      <td>2405</td>\n",
       "      <td>3516</td>\n",
       "      <td>7844</td>\n",
       "    </tr>\n",
       "    <tr>\n",
       "      <th>3</th>\n",
       "      <td>Hotel</td>\n",
       "      <td>Other</td>\n",
       "      <td>13265</td>\n",
       "      <td>1196</td>\n",
       "      <td>4221</td>\n",
       "      <td>6404</td>\n",
       "      <td>507</td>\n",
       "      <td>1788</td>\n",
       "    </tr>\n",
       "    <tr>\n",
       "      <th>4</th>\n",
       "      <td>Retail</td>\n",
       "      <td>Other</td>\n",
       "      <td>22615</td>\n",
       "      <td>5410</td>\n",
       "      <td>7198</td>\n",
       "      <td>3915</td>\n",
       "      <td>1777</td>\n",
       "      <td>5185</td>\n",
       "    </tr>\n",
       "  </tbody>\n",
       "</table>\n",
       "</div>"
      ],
      "text/plain": [
       "  Channel Region  Fresh  Milk  Grocery  Frozen  Detergents_Paper  Delicatessen\n",
       "0  Retail  Other  12669  9656     7561     214              2674          1338\n",
       "1  Retail  Other   7057  9810     9568    1762              3293          1776\n",
       "2  Retail  Other   6353  8808     7684    2405              3516          7844\n",
       "3   Hotel  Other  13265  1196     4221    6404               507          1788\n",
       "4  Retail  Other  22615  5410     7198    3915              1777          5185"
      ]
     },
     "execution_count": 216,
     "metadata": {},
     "output_type": "execute_result"
    }
   ],
   "source": [
    "df.head()"
   ]
  },
  {
   "cell_type": "code",
   "execution_count": 108,
   "id": "c3807703",
   "metadata": {},
   "outputs": [],
   "source": [
    "df.drop(['Buyer/Spender'], axis=1,inplace=True)"
   ]
  },
  {
   "cell_type": "markdown",
   "id": "0adaf79a",
   "metadata": {},
   "source": [
    "# Problem 1"
   ]
  },
  {
   "cell_type": "markdown",
   "id": "e211492d",
   "metadata": {},
   "source": [
    "**A wholesale distributor operating in different regions of Portugal has information on annual spending of several items in their stores across different regions and channels. The data consists of 440 large retailers’ annual spending on 6 different varieties of products in 3 different regions (Lisbon, Oporto, Other) and across different sales channel (Hotel, Retail).**"
   ]
  },
  {
   "cell_type": "markdown",
   "id": "3172ab9c",
   "metadata": {},
   "source": [
    "*1.1 Use methods of descriptive statistics to summarize data. Which Region and which Channel spent the most? Which Region and which Channel spent the least?*"
   ]
  },
  {
   "cell_type": "code",
   "execution_count": 203,
   "id": "aa9de20d",
   "metadata": {},
   "outputs": [
    {
     "data": {
      "text/html": [
       "<div>\n",
       "<style scoped>\n",
       "    .dataframe tbody tr th:only-of-type {\n",
       "        vertical-align: middle;\n",
       "    }\n",
       "\n",
       "    .dataframe tbody tr th {\n",
       "        vertical-align: top;\n",
       "    }\n",
       "\n",
       "    .dataframe thead th {\n",
       "        text-align: right;\n",
       "    }\n",
       "</style>\n",
       "<table border=\"1\" class=\"dataframe\">\n",
       "  <thead>\n",
       "    <tr style=\"text-align: right;\">\n",
       "      <th></th>\n",
       "      <th>Channel</th>\n",
       "      <th>Region</th>\n",
       "      <th>Fresh</th>\n",
       "      <th>Milk</th>\n",
       "      <th>Grocery</th>\n",
       "      <th>Frozen</th>\n",
       "      <th>Detergents_Paper</th>\n",
       "      <th>Delicatessen</th>\n",
       "    </tr>\n",
       "  </thead>\n",
       "  <tbody>\n",
       "    <tr>\n",
       "      <th>count</th>\n",
       "      <td>440</td>\n",
       "      <td>440</td>\n",
       "      <td>440.000000</td>\n",
       "      <td>440.000000</td>\n",
       "      <td>440.000000</td>\n",
       "      <td>440.000000</td>\n",
       "      <td>440.000000</td>\n",
       "      <td>440.000000</td>\n",
       "    </tr>\n",
       "    <tr>\n",
       "      <th>unique</th>\n",
       "      <td>2</td>\n",
       "      <td>3</td>\n",
       "      <td>NaN</td>\n",
       "      <td>NaN</td>\n",
       "      <td>NaN</td>\n",
       "      <td>NaN</td>\n",
       "      <td>NaN</td>\n",
       "      <td>NaN</td>\n",
       "    </tr>\n",
       "    <tr>\n",
       "      <th>top</th>\n",
       "      <td>Hotel</td>\n",
       "      <td>Other</td>\n",
       "      <td>NaN</td>\n",
       "      <td>NaN</td>\n",
       "      <td>NaN</td>\n",
       "      <td>NaN</td>\n",
       "      <td>NaN</td>\n",
       "      <td>NaN</td>\n",
       "    </tr>\n",
       "    <tr>\n",
       "      <th>freq</th>\n",
       "      <td>298</td>\n",
       "      <td>316</td>\n",
       "      <td>NaN</td>\n",
       "      <td>NaN</td>\n",
       "      <td>NaN</td>\n",
       "      <td>NaN</td>\n",
       "      <td>NaN</td>\n",
       "      <td>NaN</td>\n",
       "    </tr>\n",
       "    <tr>\n",
       "      <th>mean</th>\n",
       "      <td>NaN</td>\n",
       "      <td>NaN</td>\n",
       "      <td>12000.297727</td>\n",
       "      <td>5796.265909</td>\n",
       "      <td>7951.277273</td>\n",
       "      <td>3071.931818</td>\n",
       "      <td>2881.493182</td>\n",
       "      <td>1524.870455</td>\n",
       "    </tr>\n",
       "    <tr>\n",
       "      <th>std</th>\n",
       "      <td>NaN</td>\n",
       "      <td>NaN</td>\n",
       "      <td>12647.328865</td>\n",
       "      <td>7380.377175</td>\n",
       "      <td>9503.162829</td>\n",
       "      <td>4854.673333</td>\n",
       "      <td>4767.854448</td>\n",
       "      <td>2820.105937</td>\n",
       "    </tr>\n",
       "    <tr>\n",
       "      <th>min</th>\n",
       "      <td>NaN</td>\n",
       "      <td>NaN</td>\n",
       "      <td>3.000000</td>\n",
       "      <td>55.000000</td>\n",
       "      <td>3.000000</td>\n",
       "      <td>25.000000</td>\n",
       "      <td>3.000000</td>\n",
       "      <td>3.000000</td>\n",
       "    </tr>\n",
       "    <tr>\n",
       "      <th>25%</th>\n",
       "      <td>NaN</td>\n",
       "      <td>NaN</td>\n",
       "      <td>3127.750000</td>\n",
       "      <td>1533.000000</td>\n",
       "      <td>2153.000000</td>\n",
       "      <td>742.250000</td>\n",
       "      <td>256.750000</td>\n",
       "      <td>408.250000</td>\n",
       "    </tr>\n",
       "    <tr>\n",
       "      <th>50%</th>\n",
       "      <td>NaN</td>\n",
       "      <td>NaN</td>\n",
       "      <td>8504.000000</td>\n",
       "      <td>3627.000000</td>\n",
       "      <td>4755.500000</td>\n",
       "      <td>1526.000000</td>\n",
       "      <td>816.500000</td>\n",
       "      <td>965.500000</td>\n",
       "    </tr>\n",
       "    <tr>\n",
       "      <th>75%</th>\n",
       "      <td>NaN</td>\n",
       "      <td>NaN</td>\n",
       "      <td>16933.750000</td>\n",
       "      <td>7190.250000</td>\n",
       "      <td>10655.750000</td>\n",
       "      <td>3554.250000</td>\n",
       "      <td>3922.000000</td>\n",
       "      <td>1820.250000</td>\n",
       "    </tr>\n",
       "    <tr>\n",
       "      <th>max</th>\n",
       "      <td>NaN</td>\n",
       "      <td>NaN</td>\n",
       "      <td>112151.000000</td>\n",
       "      <td>73498.000000</td>\n",
       "      <td>92780.000000</td>\n",
       "      <td>60869.000000</td>\n",
       "      <td>40827.000000</td>\n",
       "      <td>47943.000000</td>\n",
       "    </tr>\n",
       "  </tbody>\n",
       "</table>\n",
       "</div>"
      ],
      "text/plain": [
       "       Channel Region          Fresh          Milk       Grocery  \\\n",
       "count      440    440     440.000000    440.000000    440.000000   \n",
       "unique       2      3            NaN           NaN           NaN   \n",
       "top      Hotel  Other            NaN           NaN           NaN   \n",
       "freq       298    316            NaN           NaN           NaN   \n",
       "mean       NaN    NaN   12000.297727   5796.265909   7951.277273   \n",
       "std        NaN    NaN   12647.328865   7380.377175   9503.162829   \n",
       "min        NaN    NaN       3.000000     55.000000      3.000000   \n",
       "25%        NaN    NaN    3127.750000   1533.000000   2153.000000   \n",
       "50%        NaN    NaN    8504.000000   3627.000000   4755.500000   \n",
       "75%        NaN    NaN   16933.750000   7190.250000  10655.750000   \n",
       "max        NaN    NaN  112151.000000  73498.000000  92780.000000   \n",
       "\n",
       "              Frozen  Detergents_Paper  Delicatessen  \n",
       "count     440.000000        440.000000    440.000000  \n",
       "unique           NaN               NaN           NaN  \n",
       "top              NaN               NaN           NaN  \n",
       "freq             NaN               NaN           NaN  \n",
       "mean     3071.931818       2881.493182   1524.870455  \n",
       "std      4854.673333       4767.854448   2820.105937  \n",
       "min        25.000000          3.000000      3.000000  \n",
       "25%       742.250000        256.750000    408.250000  \n",
       "50%      1526.000000        816.500000    965.500000  \n",
       "75%      3554.250000       3922.000000   1820.250000  \n",
       "max     60869.000000      40827.000000  47943.000000  "
      ]
     },
     "execution_count": 203,
     "metadata": {},
     "output_type": "execute_result"
    }
   ],
   "source": [
    "df.describe(include='all')"
   ]
  },
  {
   "cell_type": "markdown",
   "id": "e756b9a3",
   "metadata": {},
   "source": [
    "The mean is larger than the median, so it might be the Right skewed, hence the items spending at the OTHER Region is more when compared to Lisbon & Oporto"
   ]
  },
  {
   "cell_type": "markdown",
   "id": "5b4a74b1",
   "metadata": {},
   "source": [
    "Max value is more than the Q3, so it is clearly infers that all the items have outliers"
   ]
  },
  {
   "cell_type": "code",
   "execution_count": 82,
   "id": "e27a1d5b",
   "metadata": {
    "scrolled": true
   },
   "outputs": [
    {
     "data": {
      "text/html": [
       "<div>\n",
       "<style scoped>\n",
       "    .dataframe tbody tr th:only-of-type {\n",
       "        vertical-align: middle;\n",
       "    }\n",
       "\n",
       "    .dataframe tbody tr th {\n",
       "        vertical-align: top;\n",
       "    }\n",
       "\n",
       "    .dataframe thead th {\n",
       "        text-align: right;\n",
       "    }\n",
       "</style>\n",
       "<table border=\"1\" class=\"dataframe\">\n",
       "  <thead>\n",
       "    <tr style=\"text-align: right;\">\n",
       "      <th></th>\n",
       "      <th>Buyer/Spender</th>\n",
       "      <th>Channel</th>\n",
       "      <th>Region</th>\n",
       "      <th>Fresh</th>\n",
       "      <th>Milk</th>\n",
       "      <th>Grocery</th>\n",
       "      <th>Frozen</th>\n",
       "      <th>Detergents_Paper</th>\n",
       "      <th>Delicatessen</th>\n",
       "      <th>Total</th>\n",
       "    </tr>\n",
       "  </thead>\n",
       "  <tbody>\n",
       "    <tr>\n",
       "      <th>0</th>\n",
       "      <td>1</td>\n",
       "      <td>Retail</td>\n",
       "      <td>Other</td>\n",
       "      <td>12669</td>\n",
       "      <td>9656</td>\n",
       "      <td>7561</td>\n",
       "      <td>214</td>\n",
       "      <td>2674</td>\n",
       "      <td>1338</td>\n",
       "      <td>34112</td>\n",
       "    </tr>\n",
       "    <tr>\n",
       "      <th>1</th>\n",
       "      <td>2</td>\n",
       "      <td>Retail</td>\n",
       "      <td>Other</td>\n",
       "      <td>7057</td>\n",
       "      <td>9810</td>\n",
       "      <td>9568</td>\n",
       "      <td>1762</td>\n",
       "      <td>3293</td>\n",
       "      <td>1776</td>\n",
       "      <td>33266</td>\n",
       "    </tr>\n",
       "    <tr>\n",
       "      <th>2</th>\n",
       "      <td>3</td>\n",
       "      <td>Retail</td>\n",
       "      <td>Other</td>\n",
       "      <td>6353</td>\n",
       "      <td>8808</td>\n",
       "      <td>7684</td>\n",
       "      <td>2405</td>\n",
       "      <td>3516</td>\n",
       "      <td>7844</td>\n",
       "      <td>36610</td>\n",
       "    </tr>\n",
       "    <tr>\n",
       "      <th>3</th>\n",
       "      <td>4</td>\n",
       "      <td>Hotel</td>\n",
       "      <td>Other</td>\n",
       "      <td>13265</td>\n",
       "      <td>1196</td>\n",
       "      <td>4221</td>\n",
       "      <td>6404</td>\n",
       "      <td>507</td>\n",
       "      <td>1788</td>\n",
       "      <td>27381</td>\n",
       "    </tr>\n",
       "    <tr>\n",
       "      <th>4</th>\n",
       "      <td>5</td>\n",
       "      <td>Retail</td>\n",
       "      <td>Other</td>\n",
       "      <td>22615</td>\n",
       "      <td>5410</td>\n",
       "      <td>7198</td>\n",
       "      <td>3915</td>\n",
       "      <td>1777</td>\n",
       "      <td>5185</td>\n",
       "      <td>46100</td>\n",
       "    </tr>\n",
       "  </tbody>\n",
       "</table>\n",
       "</div>"
      ],
      "text/plain": [
       "   Buyer/Spender Channel Region  Fresh  Milk  Grocery  Frozen  \\\n",
       "0              1  Retail  Other  12669  9656     7561     214   \n",
       "1              2  Retail  Other   7057  9810     9568    1762   \n",
       "2              3  Retail  Other   6353  8808     7684    2405   \n",
       "3              4   Hotel  Other  13265  1196     4221    6404   \n",
       "4              5  Retail  Other  22615  5410     7198    3915   \n",
       "\n",
       "   Detergents_Paper  Delicatessen  Total  \n",
       "0              2674          1338  34112  \n",
       "1              3293          1776  33266  \n",
       "2              3516          7844  36610  \n",
       "3               507          1788  27381  \n",
       "4              1777          5185  46100  "
      ]
     },
     "execution_count": 82,
     "metadata": {},
     "output_type": "execute_result"
    }
   ],
   "source": [
    "df['Total']=df['Fresh']+df['Milk']+df['Grocery']+df['Frozen']+df['Detergents_Paper']+df['Delicatessen']\n",
    "df.head()"
   ]
  },
  {
   "cell_type": "code",
   "execution_count": 229,
   "id": "7f73d2fc",
   "metadata": {
    "scrolled": true
   },
   "outputs": [
    {
     "name": "stdout",
     "output_type": "stream",
     "text": [
      "Channel\n",
      "Hotel     7999569\n",
      "Retail    6619931\n",
      "Name: Total, dtype: int64\n",
      "\n",
      "Region\n",
      "Lisbon     2386813\n",
      "Oporto     1555088\n",
      "Other     10677599\n",
      "Name: Total, dtype: int64\n",
      "\n",
      "Channel  Region\n",
      "Hotel    Oporto     28\n",
      "         Lisbon     59\n",
      "         Other     211\n",
      "Retail   Lisbon     18\n",
      "         Oporto     19\n",
      "         Other     105\n",
      "Name: Region, dtype: int64\n"
     ]
    }
   ],
   "source": [
    "print(df.groupby(['Channel'])['Total'].sum())\n",
    "print('')\n",
    "print(df.groupby(['Region'])['Total'].sum())\n",
    "print('')\n",
    "print(df.groupby(['Channel'])['Region'].value_counts(ascending=True))"
   ]
  },
  {
   "cell_type": "markdown",
   "id": "27188542",
   "metadata": {},
   "source": [
    "$Infer Based on Channel wise$\n",
    "\n",
    "Hotel channel annual spend is nearly 8 Million USD, which is the higest spending.\\\n",
    "Retail channel annual spend is nearly 6.5 Million USD, which is the least spending.\n",
    "\n",
    "$Infer Based on Region wise$\n",
    "    \n",
    "compared to Oporto and Lisbon; OTHER region annual spend is higest spending, which is 10.5 Million USD.\\\n",
    "whereas, the least spend region is OPORTO which is 1.5 Million USD.\n"
   ]
  },
  {
   "cell_type": "markdown",
   "id": "aac4b24e",
   "metadata": {},
   "source": [
    "1.2 There are 6 different varieties of items that are considered. Describe and comment/explain all the varieties across Region and Channel? Provide a detailed justification for your answer."
   ]
  },
  {
   "cell_type": "code",
   "execution_count": 192,
   "id": "33ba4c36",
   "metadata": {
    "scrolled": true
   },
   "outputs": [
    {
     "data": {
      "text/plain": [
       "Fresh                2.561323\n",
       "Milk                 4.053755\n",
       "Grocery              3.587429\n",
       "Frozen               5.907986\n",
       "Detergents_Paper     3.631851\n",
       "Delicatessen        11.151586\n",
       "dtype: float64"
      ]
     },
     "execution_count": 192,
     "metadata": {},
     "output_type": "execute_result"
    }
   ],
   "source": [
    "df.skew()"
   ]
  },
  {
   "cell_type": "markdown",
   "id": "33e99cca",
   "metadata": {},
   "source": [
    "Data are skewed right, magnitude of data is not symmetrical"
   ]
  },
  {
   "cell_type": "code",
   "execution_count": 191,
   "id": "ff4d14d7",
   "metadata": {},
   "outputs": [
    {
     "data": {
      "text/plain": [
       "<AxesSubplot:xlabel='Delicatessen', ylabel='Density'>"
      ]
     },
     "execution_count": 191,
     "metadata": {},
     "output_type": "execute_result"
    },
    {
     "data": {
      "image/png": "[encoded data removed]",
      "text/plain": [
       "<Figure size 1368x504 with 6 Axes>"
      ]
     },
     "metadata": {},
     "output_type": "display_data"
    }
   ],
   "source": [
    "#plots to see the distribution of all the variables\n",
    "plt.figure(figsize=(19,7))\n",
    "plt.subplot(2,3,1)\n",
    "sns.distplot(df['Fresh'])\n",
    "plt.subplot(2,3,2)\n",
    "sns.distplot(df['Milk'])\n",
    "plt.subplot(2,3,3)\n",
    "sns.distplot(df['Grocery'])\n",
    "plt.subplot(2,3,4)\n",
    "sns.distplot(df['Frozen'])\n",
    "plt.subplot(2,3,5)\n",
    "sns.distplot(df['Detergents_Paper'])\n",
    "plt.subplot(2,3,6)\n",
    "sns.distplot(df['Delicatessen'])"
   ]
  },
  {
   "cell_type": "code",
   "execution_count": 241,
   "id": "235553e3",
   "metadata": {},
   "outputs": [
    {
     "name": "stdout",
     "output_type": "stream",
     "text": [
      "Region   Lisbon  Oporto    Other\n",
      "Channel                         \n",
      "Hotel    761233  326215  2928269\n",
      "Retail    93600  138506  1032308\n",
      "\n",
      "Total Spending for Fresh item is : 5280131\n",
      "\n",
      "Region   Lisbon  Oporto    Other\n",
      "Channel                         \n",
      "Hotel    228342   64519   735753\n",
      "Retail   194112  174625  1153006\n",
      "\n",
      "Total Spending for Milk item is : 2550357\n",
      "\n",
      "Region   Lisbon  Oporto    Other\n",
      "Channel                         \n",
      "Hotel    237542  123074   820101\n",
      "Retail   332495  310200  1675150\n",
      "\n",
      "Total Spending for Grocery item is : 3498562\n",
      "\n",
      "Region   Lisbon  Oporto   Other\n",
      "Channel                        \n",
      "Hotel    184512  160861  771606\n",
      "Retail    46514   29271  158886\n",
      "\n",
      "Total Spending for Frozen item is : 1351650\n",
      "\n",
      "Region   Lisbon  Oporto   Other\n",
      "Channel                        \n",
      "Hotel     56081   13516  165990\n",
      "Retail   148055  159795  724420\n",
      "\n",
      "Total Spending for Detergents_Paper item is : 1267857\n",
      "\n",
      "Region   Lisbon  Oporto   Other\n",
      "Channel                        \n",
      "Hotel     70632   30965  320358\n",
      "Retail    33695   23541  191752\n",
      "\n",
      "Total Spending for Delicatessen item is : 670943\n"
     ]
    }
   ],
   "source": [
    "print(pd.pivot_table(df,index='Channel',values='Fresh',columns='Region',aggfunc='sum'))\n",
    "print('')\n",
    "print('Total Spending for Fresh item is :', (761233 + 326215+  2928269)+(93600 + 138506  +1032308))\n",
    "print('')\n",
    "print(pd.pivot_table(df,index='Channel',values='Milk',columns='Region',aggfunc='sum'))\n",
    "print('')\n",
    "print('Total Spending for Milk item is :', (228342 + 64519+  735753)+(194112 + 174625  +1153006))\n",
    "print('')\n",
    "print(pd.pivot_table(df,index='Channel',values='Grocery',columns='Region',aggfunc='sum'))\n",
    "print('')\n",
    "print('Total Spending for Grocery item is :', (237542  +123074 +  820101)+(332495 + 310200 + 1675150))\n",
    "print('')\n",
    "print(pd.pivot_table(df,index='Channel',values='Frozen',columns='Region',aggfunc='sum'))\n",
    "print('')\n",
    "print('Total Spending for Frozen item is :', (184512 + 160861 + 771606)+(46514 +  29271 + 158886))\n",
    "print('')\n",
    "print(pd.pivot_table(df,index='Channel',values='Detergents_Paper',columns='Region',aggfunc='sum'))\n",
    "print('')\n",
    "print('Total Spending for Detergents_Paper item is :', (56081 +  13516 + 165990)+(148055 + 159795 + 724420))\n",
    "print('')\n",
    "print(pd.pivot_table(df,index='Channel',values='Delicatessen',columns='Region',aggfunc='sum'))\n",
    "print('')\n",
    "print('Total Spending for Delicatessen item is :', (70632  + 30965 + 320358)+(33695 +  23541 + 191752))"
   ]
  },
  {
   "cell_type": "markdown",
   "id": "8f3dba76",
   "metadata": {},
   "source": [
    "The wholesale distributor spends most for the Fresh Items then followed by Grocery and Milk in top three.\\\n",
    "Whereas the least spending of the wholesale distributor is for Delicatessen. \\\n",
    "Also the wholesale distributor almost equally spend for Frozen  and Detergents-Paper.\\\n",
    "On the whole we can clearly say the wholesale distributer spends mostly in Hotels as compared to Retail.\n"
   ]
  },
  {
   "cell_type": "markdown",
   "id": "bda6b992",
   "metadata": {},
   "source": [
    "1.3 On the basis of a descriptive measure of variability, which item shows the most inconsistent behaviour? Which items show the least inconsistent behaviour?"
   ]
  },
  {
   "cell_type": "code",
   "execution_count": null,
   "id": "1b1fae5d",
   "metadata": {},
   "outputs": [],
   "source": [
    "since the magnitude of data is not equal, so CV is the best to describe the behaviour of the products"
   ]
  },
  {
   "cell_type": "code",
   "execution_count": 183,
   "id": "8108f88a",
   "metadata": {},
   "outputs": [
    {
     "name": "stdout",
     "output_type": "stream",
     "text": [
      "Variation for Fresh is:  1.0527196084948245\n",
      "Variation for Milk is:  1.2718508307424503\n",
      "Variation for Milk is:  1.193815447749267\n",
      "Variation for Milk is:  1.5785355298607762\n",
      "Variation for Milk is:  1.6527657881041729\n",
      "Variation for Milk is:  1.8473041039189306\n"
     ]
    }
   ],
   "source": [
    "cv=lambda x:np.std(x)/np.mean(x)\n",
    "print('Variation for Fresh is: ',cv(df['Fresh']))\n",
    "print('Variation for Milk is: ',cv(df['Milk']))\n",
    "print('Variation for Milk is: ',cv(df['Grocery']))\n",
    "print('Variation for Milk is: ',cv(df['Frozen']))\n",
    "print('Variation for Milk is: ',cv(df['Detergents_Paper']))\n",
    "print('Variation for Milk is: ',cv(df['Delicatessen']))"
   ]
  },
  {
   "cell_type": "markdown",
   "id": "f6057b1d",
   "metadata": {},
   "source": [
    "Lower CV is lower risk."
   ]
  },
  {
   "cell_type": "markdown",
   "id": "e891d52c",
   "metadata": {},
   "source": [
    "Using Coefficient of Variation we find out the least value is of Category “Fresh” (1.05) and highest value is of Category “Delicatessen” (1.84)\n",
    "\n",
    "So from the given data it is clear that most inconsistent behavior shown by item – Delicatessen\n",
    "\n",
    "And least inconsistent behavior shown by item – Fresh (More Profit)\n",
    "\n"
   ]
  },
  {
   "cell_type": "markdown",
   "id": "9d357604",
   "metadata": {},
   "source": [
    "1.4 Are there any outliers in the data? Back up your answer with a suitable plot/technique with the help of detailed comments."
   ]
  },
  {
   "cell_type": "code",
   "execution_count": 185,
   "id": "92cf2e1c",
   "metadata": {},
   "outputs": [
    {
     "data": {
      "text/plain": [
       "<AxesSubplot:xlabel='Delicatessen', ylabel='Channel'>"
      ]
     },
     "execution_count": 185,
     "metadata": {},
     "output_type": "execute_result"
    },
    {
     "data": {
      "image/png": "[encoded data removed]",
      "text/plain": [
       "<Figure size 1080x864 with 6 Axes>"
      ]
     },
     "metadata": {},
     "output_type": "display_data"
    }
   ],
   "source": [
    "plt.figure(figsize=(15,12))\n",
    "plt.subplot(6,1,1)\n",
    "sns.boxplot(x=df['Fresh'],y=df['Channel'])\n",
    "# plt.title('Fresh')\n",
    "plt.subplot(6,1,2)\n",
    "sns.boxplot(x=df['Milk'],y=df['Channel'])\n",
    "# plt.title('Milk')\n",
    "plt.subplot(6,1,3)\n",
    "sns.boxplot(x=df['Grocery'],y=df['Channel'])\n",
    "# plt.title('Grocery')\n",
    "plt.subplot(6,1,4)\n",
    "sns.boxplot(x=df['Frozen'],y=df['Channel'])\n",
    "# plt.title('Frozen')\n",
    "plt.subplot(6,1,5)\n",
    "sns.boxplot(x=df['Detergents_Paper'],y=df['Channel'])\n",
    "# plt.title('Detergents_Paper')\n",
    "plt.subplot(6,1,6)\n",
    "sns.boxplot(x=df['Delicatessen'],y=df['Channel'])"
   ]
  },
  {
   "cell_type": "markdown",
   "id": "ffec8e43",
   "metadata": {},
   "source": [
    "**Inference**"
   ]
  },
  {
   "cell_type": "markdown",
   "id": "a12c1348",
   "metadata": {},
   "source": [
    "Form the above box plot it is clear that , Outliers are present in all the food items."
   ]
  },
  {
   "cell_type": "markdown",
   "id": "3b4be312",
   "metadata": {},
   "source": [
    "1.5 On the basis of your analysis, what are your recommendations for the business? How can your analysis help the business to solve its problem? Answer from the business perspective"
   ]
  },
  {
   "cell_type": "markdown",
   "id": "c89f577e",
   "metadata": {},
   "source": [
    "**Inference**"
   ]
  },
  {
   "cell_type": "markdown",
   "id": "3eb1cb20",
   "metadata": {},
   "source": [
    "As per the analysis, I find out that there are inconsistencies in spending of different items (by calculating Coefficient of Variation), which should be minimized. The spending of Hotel and Retail channel are different which should be more or less equal. And also spent should equal for different regions. Need to focus on other items also than “Fresh” and “Grocery”"
   ]
  },
  {
   "cell_type": "markdown",
   "id": "f1725077",
   "metadata": {},
   "source": [
    "# Problem 2"
   ]
  },
  {
   "cell_type": "markdown",
   "id": "1c942cf7",
   "metadata": {},
   "source": [
    "The Student News Service at Clear Mountain State University (CMSU) has decided to gather data about the undergraduate students that attend CMSU. CMSU creates and distributes a survey of 14 questions and receives responses from 62 undergraduates (stored in the Survey data set)."
   ]
  },
  {
   "cell_type": "code",
   "execution_count": 3,
   "id": "a13596b8",
   "metadata": {},
   "outputs": [
    {
     "data": {
      "text/html": [
       "<div>\n",
       "<style scoped>\n",
       "    .dataframe tbody tr th:only-of-type {\n",
       "        vertical-align: middle;\n",
       "    }\n",
       "\n",
       "    .dataframe tbody tr th {\n",
       "        vertical-align: top;\n",
       "    }\n",
       "\n",
       "    .dataframe thead th {\n",
       "        text-align: right;\n",
       "    }\n",
       "</style>\n",
       "<table border=\"1\" class=\"dataframe\">\n",
       "  <thead>\n",
       "    <tr style=\"text-align: right;\">\n",
       "      <th></th>\n",
       "      <th>ID</th>\n",
       "      <th>Gender</th>\n",
       "      <th>Age</th>\n",
       "      <th>Class</th>\n",
       "      <th>Major</th>\n",
       "      <th>Grad Intention</th>\n",
       "      <th>GPA</th>\n",
       "      <th>Employment</th>\n",
       "      <th>Salary</th>\n",
       "      <th>Social Networking</th>\n",
       "      <th>Satisfaction</th>\n",
       "      <th>Spending</th>\n",
       "      <th>Computer</th>\n",
       "      <th>Text Messages</th>\n",
       "    </tr>\n",
       "  </thead>\n",
       "  <tbody>\n",
       "    <tr>\n",
       "      <th>0</th>\n",
       "      <td>1</td>\n",
       "      <td>Female</td>\n",
       "      <td>20</td>\n",
       "      <td>Junior</td>\n",
       "      <td>Other</td>\n",
       "      <td>Yes</td>\n",
       "      <td>2.9</td>\n",
       "      <td>Full-Time</td>\n",
       "      <td>50.0</td>\n",
       "      <td>1</td>\n",
       "      <td>3</td>\n",
       "      <td>350</td>\n",
       "      <td>Laptop</td>\n",
       "      <td>200</td>\n",
       "    </tr>\n",
       "    <tr>\n",
       "      <th>1</th>\n",
       "      <td>2</td>\n",
       "      <td>Male</td>\n",
       "      <td>23</td>\n",
       "      <td>Senior</td>\n",
       "      <td>Management</td>\n",
       "      <td>Yes</td>\n",
       "      <td>3.6</td>\n",
       "      <td>Part-Time</td>\n",
       "      <td>25.0</td>\n",
       "      <td>1</td>\n",
       "      <td>4</td>\n",
       "      <td>360</td>\n",
       "      <td>Laptop</td>\n",
       "      <td>50</td>\n",
       "    </tr>\n",
       "    <tr>\n",
       "      <th>2</th>\n",
       "      <td>3</td>\n",
       "      <td>Male</td>\n",
       "      <td>21</td>\n",
       "      <td>Junior</td>\n",
       "      <td>Other</td>\n",
       "      <td>Yes</td>\n",
       "      <td>2.5</td>\n",
       "      <td>Part-Time</td>\n",
       "      <td>45.0</td>\n",
       "      <td>2</td>\n",
       "      <td>4</td>\n",
       "      <td>600</td>\n",
       "      <td>Laptop</td>\n",
       "      <td>200</td>\n",
       "    </tr>\n",
       "    <tr>\n",
       "      <th>3</th>\n",
       "      <td>4</td>\n",
       "      <td>Male</td>\n",
       "      <td>21</td>\n",
       "      <td>Junior</td>\n",
       "      <td>CIS</td>\n",
       "      <td>Yes</td>\n",
       "      <td>2.5</td>\n",
       "      <td>Full-Time</td>\n",
       "      <td>40.0</td>\n",
       "      <td>4</td>\n",
       "      <td>6</td>\n",
       "      <td>600</td>\n",
       "      <td>Laptop</td>\n",
       "      <td>250</td>\n",
       "    </tr>\n",
       "    <tr>\n",
       "      <th>4</th>\n",
       "      <td>5</td>\n",
       "      <td>Male</td>\n",
       "      <td>23</td>\n",
       "      <td>Senior</td>\n",
       "      <td>Other</td>\n",
       "      <td>Undecided</td>\n",
       "      <td>2.8</td>\n",
       "      <td>Unemployed</td>\n",
       "      <td>40.0</td>\n",
       "      <td>2</td>\n",
       "      <td>4</td>\n",
       "      <td>500</td>\n",
       "      <td>Laptop</td>\n",
       "      <td>100</td>\n",
       "    </tr>\n",
       "  </tbody>\n",
       "</table>\n",
       "</div>"
      ],
      "text/plain": [
       "   ID  Gender  Age   Class       Major Grad Intention  GPA  Employment  \\\n",
       "0   1  Female   20  Junior       Other            Yes  2.9   Full-Time   \n",
       "1   2    Male   23  Senior  Management            Yes  3.6   Part-Time   \n",
       "2   3    Male   21  Junior       Other            Yes  2.5   Part-Time   \n",
       "3   4    Male   21  Junior         CIS            Yes  2.5   Full-Time   \n",
       "4   5    Male   23  Senior       Other      Undecided  2.8  Unemployed   \n",
       "\n",
       "   Salary  Social Networking  Satisfaction  Spending Computer  Text Messages  \n",
       "0    50.0                  1             3       350   Laptop            200  \n",
       "1    25.0                  1             4       360   Laptop             50  \n",
       "2    45.0                  2             4       600   Laptop            200  \n",
       "3    40.0                  4             6       600   Laptop            250  \n",
       "4    40.0                  2             4       500   Laptop            100  "
      ]
     },
     "execution_count": 3,
     "metadata": {},
     "output_type": "execute_result"
    }
   ],
   "source": [
    "df2=pd.read_csv('Survey-1.csv')\n",
    "df2.head()"
   ]
  },
  {
   "cell_type": "code",
   "execution_count": 246,
   "id": "81d4495f",
   "metadata": {},
   "outputs": [
    {
     "data": {
      "text/plain": [
       "False"
      ]
     },
     "execution_count": 246,
     "metadata": {},
     "output_type": "execute_result"
    }
   ],
   "source": [
    "df2.isnull().values.any()"
   ]
  },
  {
   "cell_type": "markdown",
   "id": "aa831138",
   "metadata": {},
   "source": [
    "2.1. For this data, construct the following contingency tables (Keep Gender as row variable)\\\n",
    "2.1.1. Gender and Major"
   ]
  },
  {
   "cell_type": "code",
   "execution_count": 352,
   "id": "6eb46656",
   "metadata": {
    "scrolled": true
   },
   "outputs": [
    {
     "data": {
      "text/html": [
       "<div>\n",
       "<style scoped>\n",
       "    .dataframe tbody tr th:only-of-type {\n",
       "        vertical-align: middle;\n",
       "    }\n",
       "\n",
       "    .dataframe tbody tr th {\n",
       "        vertical-align: top;\n",
       "    }\n",
       "\n",
       "    .dataframe thead th {\n",
       "        text-align: right;\n",
       "    }\n",
       "</style>\n",
       "<table border=\"1\" class=\"dataframe\">\n",
       "  <thead>\n",
       "    <tr style=\"text-align: right;\">\n",
       "      <th>Major</th>\n",
       "      <th>Accounting</th>\n",
       "      <th>CIS</th>\n",
       "      <th>Economics/Finance</th>\n",
       "      <th>International Business</th>\n",
       "      <th>Management</th>\n",
       "      <th>Other</th>\n",
       "      <th>Retailing/Marketing</th>\n",
       "      <th>Undecided</th>\n",
       "      <th>All</th>\n",
       "    </tr>\n",
       "    <tr>\n",
       "      <th>Gender</th>\n",
       "      <th></th>\n",
       "      <th></th>\n",
       "      <th></th>\n",
       "      <th></th>\n",
       "      <th></th>\n",
       "      <th></th>\n",
       "      <th></th>\n",
       "      <th></th>\n",
       "      <th></th>\n",
       "    </tr>\n",
       "  </thead>\n",
       "  <tbody>\n",
       "    <tr>\n",
       "      <th>Female</th>\n",
       "      <td>3</td>\n",
       "      <td>3</td>\n",
       "      <td>7</td>\n",
       "      <td>4</td>\n",
       "      <td>4</td>\n",
       "      <td>3</td>\n",
       "      <td>9</td>\n",
       "      <td>0</td>\n",
       "      <td>33</td>\n",
       "    </tr>\n",
       "    <tr>\n",
       "      <th>Male</th>\n",
       "      <td>4</td>\n",
       "      <td>1</td>\n",
       "      <td>4</td>\n",
       "      <td>2</td>\n",
       "      <td>6</td>\n",
       "      <td>4</td>\n",
       "      <td>5</td>\n",
       "      <td>3</td>\n",
       "      <td>29</td>\n",
       "    </tr>\n",
       "    <tr>\n",
       "      <th>All</th>\n",
       "      <td>7</td>\n",
       "      <td>4</td>\n",
       "      <td>11</td>\n",
       "      <td>6</td>\n",
       "      <td>10</td>\n",
       "      <td>7</td>\n",
       "      <td>14</td>\n",
       "      <td>3</td>\n",
       "      <td>62</td>\n",
       "    </tr>\n",
       "  </tbody>\n",
       "</table>\n",
       "</div>"
      ],
      "text/plain": [
       "Major   Accounting  CIS  Economics/Finance  International Business  \\\n",
       "Gender                                                               \n",
       "Female           3    3                  7                       4   \n",
       "Male             4    1                  4                       2   \n",
       "All              7    4                 11                       6   \n",
       "\n",
       "Major   Management  Other  Retailing/Marketing  Undecided  All  \n",
       "Gender                                                          \n",
       "Female           4      3                    9          0   33  \n",
       "Male             6      4                    5          3   29  \n",
       "All             10      7                   14          3   62  "
      ]
     },
     "execution_count": 352,
     "metadata": {},
     "output_type": "execute_result"
    }
   ],
   "source": [
    "pd.crosstab(index=df2['Gender'], columns=df2['Major'],margins=True)"
   ]
  },
  {
   "cell_type": "markdown",
   "id": "bc779eb8",
   "metadata": {},
   "source": [
    "2.1.2. Gender and Grad Intention"
   ]
  },
  {
   "cell_type": "code",
   "execution_count": 353,
   "id": "ec7e2a29",
   "metadata": {},
   "outputs": [
    {
     "name": "stdout",
     "output_type": "stream",
     "text": [
      "Grad Intention  No  Undecided  Yes  All\n",
      "Gender                                 \n",
      "Female           9         13   11   33\n",
      "Male             3          9   17   29\n",
      "All             12         22   28   62\n"
     ]
    }
   ],
   "source": [
    "print(pd.crosstab(index=df2['Gender'], columns=df2['Grad Intention'],margins=True))"
   ]
  },
  {
   "cell_type": "markdown",
   "id": "5e668574",
   "metadata": {},
   "source": [
    "2.1.3. Gender and Employment"
   ]
  },
  {
   "cell_type": "code",
   "execution_count": 354,
   "id": "b7c9e4d8",
   "metadata": {},
   "outputs": [
    {
     "name": "stdout",
     "output_type": "stream",
     "text": [
      "Employment  Full-Time  Part-Time  Unemployed  All\n",
      "Gender                                           \n",
      "Female              3         24           6   33\n",
      "Male                7         19           3   29\n",
      "All                10         43           9   62\n"
     ]
    }
   ],
   "source": [
    "print(pd.crosstab(index=df2['Gender'], columns=df2['Employment'],margins=True))"
   ]
  },
  {
   "cell_type": "markdown",
   "id": "09cd2eee",
   "metadata": {},
   "source": [
    "2.1.4. Gender and Computer"
   ]
  },
  {
   "cell_type": "code",
   "execution_count": 356,
   "id": "e594b061",
   "metadata": {},
   "outputs": [
    {
     "name": "stdout",
     "output_type": "stream",
     "text": [
      "Computer  Desktop  Laptop  Tablet  All\n",
      "Gender                                \n",
      "Female          2      29       2   33\n",
      "Male            3      26       0   29\n",
      "All             5      55       2   62\n"
     ]
    }
   ],
   "source": [
    "print(pd.crosstab(index=df2['Gender'], columns=df2['Computer'],margins=True))"
   ]
  },
  {
   "cell_type": "markdown",
   "id": "4d42d9e8",
   "metadata": {},
   "source": [
    "2.2. Assume that the sample is representative of the population of CMSU. Based on the data, answer the following question:\n",
    "\n",
    "2.2.1. What is the probability that a randomly selected CMSU student will be male?"
   ]
  },
  {
   "cell_type": "code",
   "execution_count": 61,
   "id": "c3d74022",
   "metadata": {},
   "outputs": [
    {
     "data": {
      "text/plain": [
       "Gender\n",
       "Female    33\n",
       "Male      29\n",
       "dtype: int64"
      ]
     },
     "execution_count": 61,
     "metadata": {},
     "output_type": "execute_result"
    }
   ],
   "source": [
    "# xbar,mu=62\n",
    "df2.groupby(['Gender']).size()"
   ]
  },
  {
   "cell_type": "code",
   "execution_count": 288,
   "id": "850cecb9",
   "metadata": {},
   "outputs": [
    {
     "data": {
      "text/plain": [
       "46.7742"
      ]
     },
     "execution_count": 288,
     "metadata": {},
     "output_type": "execute_result"
    }
   ],
   "source": [
    "probability_of_male=round((29/62)* 100,4)\n",
    "probability_of_male"
   ]
  },
  {
   "cell_type": "markdown",
   "id": "1cf11b52",
   "metadata": {},
   "source": [
    "2.2.2. What is the probability that a randomly selected CMSU student will be female"
   ]
  },
  {
   "cell_type": "code",
   "execution_count": 291,
   "id": "bc66e191",
   "metadata": {},
   "outputs": [
    {
     "data": {
      "text/plain": [
       "53.2258"
      ]
     },
     "execution_count": 291,
     "metadata": {},
     "output_type": "execute_result"
    }
   ],
   "source": [
    "probability_of_female=round((33/62)* 100,4)\n",
    "probability_of_female"
   ]
  },
  {
   "cell_type": "markdown",
   "id": "854049b4",
   "metadata": {},
   "source": [
    "2.3. Assume that the sample is representative of the population of CMSU. Based on the data, answer the following question:\n",
    "\n",
    "2.3.1. Find the conditional probability of different majors among the male students in CMSU.\n",
    "\n"
   ]
  },
  {
   "cell_type": "code",
   "execution_count": 358,
   "id": "02e8b9ea",
   "metadata": {},
   "outputs": [
    {
     "data": {
      "text/html": [
       "<div>\n",
       "<style scoped>\n",
       "    .dataframe tbody tr th:only-of-type {\n",
       "        vertical-align: middle;\n",
       "    }\n",
       "\n",
       "    .dataframe tbody tr th {\n",
       "        vertical-align: top;\n",
       "    }\n",
       "\n",
       "    .dataframe thead th {\n",
       "        text-align: right;\n",
       "    }\n",
       "</style>\n",
       "<table border=\"1\" class=\"dataframe\">\n",
       "  <thead>\n",
       "    <tr style=\"text-align: right;\">\n",
       "      <th>Major</th>\n",
       "      <th>Accounting</th>\n",
       "      <th>CIS</th>\n",
       "      <th>Economics/Finance</th>\n",
       "      <th>International Business</th>\n",
       "      <th>Management</th>\n",
       "      <th>Other</th>\n",
       "      <th>Retailing/Marketing</th>\n",
       "      <th>Undecided</th>\n",
       "      <th>All</th>\n",
       "    </tr>\n",
       "    <tr>\n",
       "      <th>Gender</th>\n",
       "      <th></th>\n",
       "      <th></th>\n",
       "      <th></th>\n",
       "      <th></th>\n",
       "      <th></th>\n",
       "      <th></th>\n",
       "      <th></th>\n",
       "      <th></th>\n",
       "      <th></th>\n",
       "    </tr>\n",
       "  </thead>\n",
       "  <tbody>\n",
       "    <tr>\n",
       "      <th>Female</th>\n",
       "      <td>3</td>\n",
       "      <td>3</td>\n",
       "      <td>7</td>\n",
       "      <td>4</td>\n",
       "      <td>4</td>\n",
       "      <td>3</td>\n",
       "      <td>9</td>\n",
       "      <td>0</td>\n",
       "      <td>33</td>\n",
       "    </tr>\n",
       "    <tr>\n",
       "      <th>Male</th>\n",
       "      <td>4</td>\n",
       "      <td>1</td>\n",
       "      <td>4</td>\n",
       "      <td>2</td>\n",
       "      <td>6</td>\n",
       "      <td>4</td>\n",
       "      <td>5</td>\n",
       "      <td>3</td>\n",
       "      <td>29</td>\n",
       "    </tr>\n",
       "    <tr>\n",
       "      <th>All</th>\n",
       "      <td>7</td>\n",
       "      <td>4</td>\n",
       "      <td>11</td>\n",
       "      <td>6</td>\n",
       "      <td>10</td>\n",
       "      <td>7</td>\n",
       "      <td>14</td>\n",
       "      <td>3</td>\n",
       "      <td>62</td>\n",
       "    </tr>\n",
       "  </tbody>\n",
       "</table>\n",
       "</div>"
      ],
      "text/plain": [
       "Major   Accounting  CIS  Economics/Finance  International Business  \\\n",
       "Gender                                                               \n",
       "Female           3    3                  7                       4   \n",
       "Male             4    1                  4                       2   \n",
       "All              7    4                 11                       6   \n",
       "\n",
       "Major   Management  Other  Retailing/Marketing  Undecided  All  \n",
       "Gender                                                          \n",
       "Female           4      3                    9          0   33  \n",
       "Male             6      4                    5          3   29  \n",
       "All             10      7                   14          3   62  "
      ]
     },
     "execution_count": 358,
     "metadata": {},
     "output_type": "execute_result"
    }
   ],
   "source": [
    "pd.crosstab(index=df2['Gender'],columns=df2['Major'],margins=True)"
   ]
  },
  {
   "cell_type": "code",
   "execution_count": 124,
   "id": "3c25a902",
   "metadata": {
    "scrolled": true
   },
   "outputs": [
    {
     "name": "stdout",
     "output_type": "stream",
     "text": [
      "Probability of students choose Accounting streem among Males is 13.793103448275861\n",
      "Probability of students choose CIS streem among Males is 3.4482758620689653\n",
      "Probability of students choose Economics/Finance streem among Males is 13.793103448275861\n",
      "Probability of students choose International Business streem among Males is 6.896551724137931\n",
      "Probability of students choose Management streem among Males is 20.689655172413794\n",
      "Probability of students choose Other streem among Males is 13.793103448275861\n",
      "Probability of students choose Retailing/Marketing streem among Males is 17.24137931034483\n",
      "Probability of students choose Undecided streem among Males is 10.344827586206897\n"
     ]
    }
   ],
   "source": [
    "total_male=29\n",
    "print('Probability of students choose Accounting streem among Males is', 4/29 * 100)\n",
    "print('Probability of students choose CIS streem among Males is', 1/29* 100)\n",
    "print('Probability of students choose Economics/Finance streem among Males is', 4/29* 100)\n",
    "print('Probability of students choose International Business streem among Males is', 2/29* 100)\n",
    "print('Probability of students choose Management streem among Males is', 6/29* 100)\n",
    "print('Probability of students choose Other streem among Males is', 4/29* 100)\n",
    "print('Probability of students choose Retailing/Marketing streem among Males is', 5/29* 100)\n",
    "print('Probability of students choose Undecided streem among Males is', 3/29* 100)"
   ]
  },
  {
   "cell_type": "markdown",
   "id": "95388487",
   "metadata": {},
   "source": [
    "**Inference**"
   ]
  },
  {
   "cell_type": "markdown",
   "id": "88d3bf35",
   "metadata": {},
   "source": [
    "And from this output we can easily say that most of the males students prefer Management as Majors and CIS is the least preferred one"
   ]
  },
  {
   "cell_type": "markdown",
   "id": "42d9c17d",
   "metadata": {},
   "source": [
    "2.3.2 Find the conditional probability of different majors among the female students of CMSU."
   ]
  },
  {
   "cell_type": "code",
   "execution_count": 125,
   "id": "659ad52f",
   "metadata": {
    "scrolled": true
   },
   "outputs": [
    {
     "name": "stdout",
     "output_type": "stream",
     "text": [
      "Probability of students choose Accounting streem among Males is 9.090909090909092\n",
      "Probability of students choose CIS streem among Males is 9.090909090909092\n",
      "Probability of students choose Economics/Finance streem among Males is 21.21212121212121\n",
      "Probability of students choose International Business streem among Males is 12.121212121212121\n",
      "Probability of students choose Management streem among Males is 12.121212121212121\n",
      "Probability of students choose Other streem among Males is 9.090909090909092\n",
      "Probability of students choose Retailing/Marketing streem among Males is 27.27272727272727\n",
      "Probability of students choose Undecided streem among Males is 0.0\n"
     ]
    }
   ],
   "source": [
    "total_female=33\n",
    "print('Probability of students choose Accounting streem among Males is', 3/33* 100)\n",
    "print('Probability of students choose CIS streem among Males is', 3/33* 100)\n",
    "print('Probability of students choose Economics/Finance streem among Males is', 7/33* 100)\n",
    "print('Probability of students choose International Business streem among Males is', 4/33* 100)\n",
    "print('Probability of students choose Management streem among Males is', 4/33* 100)\n",
    "print('Probability of students choose Other streem among Males is', 3/33* 100)\n",
    "print('Probability of students choose Retailing/Marketing streem among Males is', 9/33* 100)\n",
    "print('Probability of students choose Undecided streem among Males is', 0/33* 100)"
   ]
  },
  {
   "cell_type": "markdown",
   "id": "150221dc",
   "metadata": {},
   "source": [
    "**Inference**"
   ]
  },
  {
   "cell_type": "markdown",
   "id": "3a2c725a",
   "metadata": {},
   "source": [
    "And from this output we can easily say that most of the females students prefer Retailing/Marketing as Majors."
   ]
  },
  {
   "cell_type": "markdown",
   "id": "f550379c",
   "metadata": {},
   "source": [
    "2.4. Assume that the sample is a representative of the population of CMSU. Based on the data, answer the following question:\n",
    "\n",
    "2.4.1. Find the probability That a randomly chosen student is a male and intends to graduate.\n",
    "\n",
    " "
   ]
  },
  {
   "cell_type": "code",
   "execution_count": 307,
   "id": "c2befa42",
   "metadata": {},
   "outputs": [
    {
     "data": {
      "text/html": [
       "<div>\n",
       "<style scoped>\n",
       "    .dataframe tbody tr th:only-of-type {\n",
       "        vertical-align: middle;\n",
       "    }\n",
       "\n",
       "    .dataframe tbody tr th {\n",
       "        vertical-align: top;\n",
       "    }\n",
       "\n",
       "    .dataframe thead th {\n",
       "        text-align: right;\n",
       "    }\n",
       "</style>\n",
       "<table border=\"1\" class=\"dataframe\">\n",
       "  <thead>\n",
       "    <tr style=\"text-align: right;\">\n",
       "      <th></th>\n",
       "      <th>ID</th>\n",
       "      <th>Gender</th>\n",
       "      <th>Age</th>\n",
       "      <th>Class</th>\n",
       "      <th>Major</th>\n",
       "      <th>Grad Intention</th>\n",
       "      <th>GPA</th>\n",
       "      <th>Employment</th>\n",
       "      <th>Salary</th>\n",
       "      <th>Social Networking</th>\n",
       "      <th>Satisfaction</th>\n",
       "      <th>Spending</th>\n",
       "      <th>Computer</th>\n",
       "      <th>Text Messages</th>\n",
       "    </tr>\n",
       "  </thead>\n",
       "  <tbody>\n",
       "    <tr>\n",
       "      <th>0</th>\n",
       "      <td>1</td>\n",
       "      <td>Female</td>\n",
       "      <td>20</td>\n",
       "      <td>Junior</td>\n",
       "      <td>Other</td>\n",
       "      <td>Yes</td>\n",
       "      <td>2.9</td>\n",
       "      <td>Full-Time</td>\n",
       "      <td>50.0</td>\n",
       "      <td>1</td>\n",
       "      <td>3</td>\n",
       "      <td>350</td>\n",
       "      <td>Laptop</td>\n",
       "      <td>200</td>\n",
       "    </tr>\n",
       "    <tr>\n",
       "      <th>1</th>\n",
       "      <td>2</td>\n",
       "      <td>Male</td>\n",
       "      <td>23</td>\n",
       "      <td>Senior</td>\n",
       "      <td>Management</td>\n",
       "      <td>Yes</td>\n",
       "      <td>3.6</td>\n",
       "      <td>Part-Time</td>\n",
       "      <td>25.0</td>\n",
       "      <td>1</td>\n",
       "      <td>4</td>\n",
       "      <td>360</td>\n",
       "      <td>Laptop</td>\n",
       "      <td>50</td>\n",
       "    </tr>\n",
       "    <tr>\n",
       "      <th>2</th>\n",
       "      <td>3</td>\n",
       "      <td>Male</td>\n",
       "      <td>21</td>\n",
       "      <td>Junior</td>\n",
       "      <td>Other</td>\n",
       "      <td>Yes</td>\n",
       "      <td>2.5</td>\n",
       "      <td>Part-Time</td>\n",
       "      <td>45.0</td>\n",
       "      <td>2</td>\n",
       "      <td>4</td>\n",
       "      <td>600</td>\n",
       "      <td>Laptop</td>\n",
       "      <td>200</td>\n",
       "    </tr>\n",
       "    <tr>\n",
       "      <th>3</th>\n",
       "      <td>4</td>\n",
       "      <td>Male</td>\n",
       "      <td>21</td>\n",
       "      <td>Junior</td>\n",
       "      <td>CIS</td>\n",
       "      <td>Yes</td>\n",
       "      <td>2.5</td>\n",
       "      <td>Full-Time</td>\n",
       "      <td>40.0</td>\n",
       "      <td>4</td>\n",
       "      <td>6</td>\n",
       "      <td>600</td>\n",
       "      <td>Laptop</td>\n",
       "      <td>250</td>\n",
       "    </tr>\n",
       "    <tr>\n",
       "      <th>4</th>\n",
       "      <td>5</td>\n",
       "      <td>Male</td>\n",
       "      <td>23</td>\n",
       "      <td>Senior</td>\n",
       "      <td>Other</td>\n",
       "      <td>Undecided</td>\n",
       "      <td>2.8</td>\n",
       "      <td>Unemployed</td>\n",
       "      <td>40.0</td>\n",
       "      <td>2</td>\n",
       "      <td>4</td>\n",
       "      <td>500</td>\n",
       "      <td>Laptop</td>\n",
       "      <td>100</td>\n",
       "    </tr>\n",
       "  </tbody>\n",
       "</table>\n",
       "</div>"
      ],
      "text/plain": [
       "   ID  Gender  Age   Class       Major Grad Intention  GPA  Employment  \\\n",
       "0   1  Female   20  Junior       Other            Yes  2.9   Full-Time   \n",
       "1   2    Male   23  Senior  Management            Yes  3.6   Part-Time   \n",
       "2   3    Male   21  Junior       Other            Yes  2.5   Part-Time   \n",
       "3   4    Male   21  Junior         CIS            Yes  2.5   Full-Time   \n",
       "4   5    Male   23  Senior       Other      Undecided  2.8  Unemployed   \n",
       "\n",
       "   Salary  Social Networking  Satisfaction  Spending Computer  Text Messages  \n",
       "0    50.0                  1             3       350   Laptop            200  \n",
       "1    25.0                  1             4       360   Laptop             50  \n",
       "2    45.0                  2             4       600   Laptop            200  \n",
       "3    40.0                  4             6       600   Laptop            250  \n",
       "4    40.0                  2             4       500   Laptop            100  "
      ]
     },
     "execution_count": 307,
     "metadata": {},
     "output_type": "execute_result"
    }
   ],
   "source": [
    "df2.head()"
   ]
  },
  {
   "cell_type": "code",
   "execution_count": 359,
   "id": "0ac977dd",
   "metadata": {},
   "outputs": [
    {
     "data": {
      "text/html": [
       "<div>\n",
       "<style scoped>\n",
       "    .dataframe tbody tr th:only-of-type {\n",
       "        vertical-align: middle;\n",
       "    }\n",
       "\n",
       "    .dataframe tbody tr th {\n",
       "        vertical-align: top;\n",
       "    }\n",
       "\n",
       "    .dataframe thead th {\n",
       "        text-align: right;\n",
       "    }\n",
       "</style>\n",
       "<table border=\"1\" class=\"dataframe\">\n",
       "  <thead>\n",
       "    <tr style=\"text-align: right;\">\n",
       "      <th>Grad Intention</th>\n",
       "      <th>No</th>\n",
       "      <th>Undecided</th>\n",
       "      <th>Yes</th>\n",
       "      <th>All</th>\n",
       "    </tr>\n",
       "    <tr>\n",
       "      <th>Gender</th>\n",
       "      <th></th>\n",
       "      <th></th>\n",
       "      <th></th>\n",
       "      <th></th>\n",
       "    </tr>\n",
       "  </thead>\n",
       "  <tbody>\n",
       "    <tr>\n",
       "      <th>Female</th>\n",
       "      <td>9</td>\n",
       "      <td>13</td>\n",
       "      <td>11</td>\n",
       "      <td>33</td>\n",
       "    </tr>\n",
       "    <tr>\n",
       "      <th>Male</th>\n",
       "      <td>3</td>\n",
       "      <td>9</td>\n",
       "      <td>17</td>\n",
       "      <td>29</td>\n",
       "    </tr>\n",
       "    <tr>\n",
       "      <th>All</th>\n",
       "      <td>12</td>\n",
       "      <td>22</td>\n",
       "      <td>28</td>\n",
       "      <td>62</td>\n",
       "    </tr>\n",
       "  </tbody>\n",
       "</table>\n",
       "</div>"
      ],
      "text/plain": [
       "Grad Intention  No  Undecided  Yes  All\n",
       "Gender                                 \n",
       "Female           9         13   11   33\n",
       "Male             3          9   17   29\n",
       "All             12         22   28   62"
      ]
     },
     "execution_count": 359,
     "metadata": {},
     "output_type": "execute_result"
    }
   ],
   "source": [
    "pd.crosstab(index=df2['Gender'],columns=df2['Grad Intention'],margins=True)"
   ]
  },
  {
   "cell_type": "code",
   "execution_count": 361,
   "id": "905ea77c",
   "metadata": {},
   "outputs": [
    {
     "data": {
      "text/plain": [
       "0.27419354838709675"
      ]
     },
     "execution_count": 361,
     "metadata": {},
     "output_type": "execute_result"
    }
   ],
   "source": [
    "# probability That a randomly chosen student is a male\n",
    "a=29/62\n",
    "# probability That a randomly chosen student is a male and intends to graduate\n",
    "b=17/29\n",
    "a * b "
   ]
  },
  {
   "cell_type": "markdown",
   "id": "36222e98",
   "metadata": {},
   "source": [
    "**Inference**"
   ]
  },
  {
   "cell_type": "markdown",
   "id": "036a212d",
   "metadata": {},
   "source": [
    "Probability That a randomly chosen student is a male and intend graduate is: 0.27419 or 27.419%"
   ]
  },
  {
   "cell_type": "markdown",
   "id": "7b46f58d",
   "metadata": {},
   "source": [
    "2.4.2 Find the probability that a randomly selected student is a female and does NOT have a laptop."
   ]
  },
  {
   "cell_type": "code",
   "execution_count": 364,
   "id": "d500e751",
   "metadata": {},
   "outputs": [
    {
     "data": {
      "text/html": [
       "<div>\n",
       "<style scoped>\n",
       "    .dataframe tbody tr th:only-of-type {\n",
       "        vertical-align: middle;\n",
       "    }\n",
       "\n",
       "    .dataframe tbody tr th {\n",
       "        vertical-align: top;\n",
       "    }\n",
       "\n",
       "    .dataframe thead th {\n",
       "        text-align: right;\n",
       "    }\n",
       "</style>\n",
       "<table border=\"1\" class=\"dataframe\">\n",
       "  <thead>\n",
       "    <tr style=\"text-align: right;\">\n",
       "      <th>Computer</th>\n",
       "      <th>Desktop</th>\n",
       "      <th>Laptop</th>\n",
       "      <th>Tablet</th>\n",
       "      <th>All</th>\n",
       "    </tr>\n",
       "    <tr>\n",
       "      <th>Gender</th>\n",
       "      <th></th>\n",
       "      <th></th>\n",
       "      <th></th>\n",
       "      <th></th>\n",
       "    </tr>\n",
       "  </thead>\n",
       "  <tbody>\n",
       "    <tr>\n",
       "      <th>Female</th>\n",
       "      <td>2</td>\n",
       "      <td>29</td>\n",
       "      <td>2</td>\n",
       "      <td>33</td>\n",
       "    </tr>\n",
       "    <tr>\n",
       "      <th>Male</th>\n",
       "      <td>3</td>\n",
       "      <td>26</td>\n",
       "      <td>0</td>\n",
       "      <td>29</td>\n",
       "    </tr>\n",
       "    <tr>\n",
       "      <th>All</th>\n",
       "      <td>5</td>\n",
       "      <td>55</td>\n",
       "      <td>2</td>\n",
       "      <td>62</td>\n",
       "    </tr>\n",
       "  </tbody>\n",
       "</table>\n",
       "</div>"
      ],
      "text/plain": [
       "Computer  Desktop  Laptop  Tablet  All\n",
       "Gender                                \n",
       "Female          2      29       2   33\n",
       "Male            3      26       0   29\n",
       "All             5      55       2   62"
      ]
     },
     "execution_count": 364,
     "metadata": {},
     "output_type": "execute_result"
    }
   ],
   "source": [
    "pd.crosstab(index=df2['Gender'],columns=df2['Computer'],margins=True)"
   ]
  },
  {
   "cell_type": "code",
   "execution_count": 368,
   "id": "c40758d3",
   "metadata": {},
   "outputs": [
    {
     "data": {
      "text/plain": [
       "0.06451612903225806"
      ]
     },
     "execution_count": 368,
     "metadata": {},
     "output_type": "execute_result"
    }
   ],
   "source": [
    "# probability that a randomly selected student is a female\n",
    "a=33/62\n",
    "# probability that a randomly selected student is a female and does NOT have a laptop\n",
    "b=4/33\n",
    "a * b"
   ]
  },
  {
   "cell_type": "markdown",
   "id": "af43eecd",
   "metadata": {},
   "source": [
    "**Inference**"
   ]
  },
  {
   "cell_type": "markdown",
   "id": "6a7ad6dd",
   "metadata": {},
   "source": [
    "Probability that a randomly selected student is a female and does NOT have a laptop is:  0.06451  or   6.45%"
   ]
  },
  {
   "cell_type": "markdown",
   "id": "7b0fd73d",
   "metadata": {},
   "source": [
    "2.5. Assume that the sample is representative of the population of CMSU. Based on the data, answer the following question:\n",
    "\n",
    "2.5.1. Find the probability that a randomly chosen student is a male or has full-time employment?\n"
   ]
  },
  {
   "cell_type": "code",
   "execution_count": 369,
   "id": "0399e474",
   "metadata": {},
   "outputs": [
    {
     "data": {
      "text/html": [
       "<div>\n",
       "<style scoped>\n",
       "    .dataframe tbody tr th:only-of-type {\n",
       "        vertical-align: middle;\n",
       "    }\n",
       "\n",
       "    .dataframe tbody tr th {\n",
       "        vertical-align: top;\n",
       "    }\n",
       "\n",
       "    .dataframe thead th {\n",
       "        text-align: right;\n",
       "    }\n",
       "</style>\n",
       "<table border=\"1\" class=\"dataframe\">\n",
       "  <thead>\n",
       "    <tr style=\"text-align: right;\">\n",
       "      <th>Employment</th>\n",
       "      <th>Full-Time</th>\n",
       "      <th>Part-Time</th>\n",
       "      <th>Unemployed</th>\n",
       "      <th>All</th>\n",
       "    </tr>\n",
       "    <tr>\n",
       "      <th>Gender</th>\n",
       "      <th></th>\n",
       "      <th></th>\n",
       "      <th></th>\n",
       "      <th></th>\n",
       "    </tr>\n",
       "  </thead>\n",
       "  <tbody>\n",
       "    <tr>\n",
       "      <th>Female</th>\n",
       "      <td>3</td>\n",
       "      <td>24</td>\n",
       "      <td>6</td>\n",
       "      <td>33</td>\n",
       "    </tr>\n",
       "    <tr>\n",
       "      <th>Male</th>\n",
       "      <td>7</td>\n",
       "      <td>19</td>\n",
       "      <td>3</td>\n",
       "      <td>29</td>\n",
       "    </tr>\n",
       "    <tr>\n",
       "      <th>All</th>\n",
       "      <td>10</td>\n",
       "      <td>43</td>\n",
       "      <td>9</td>\n",
       "      <td>62</td>\n",
       "    </tr>\n",
       "  </tbody>\n",
       "</table>\n",
       "</div>"
      ],
      "text/plain": [
       "Employment  Full-Time  Part-Time  Unemployed  All\n",
       "Gender                                           \n",
       "Female              3         24           6   33\n",
       "Male                7         19           3   29\n",
       "All                10         43           9   62"
      ]
     },
     "execution_count": 369,
     "metadata": {},
     "output_type": "execute_result"
    }
   ],
   "source": [
    "pd.crosstab(index=df2['Gender'],columns=df2['Employment'],margins=True)"
   ]
  },
  {
   "cell_type": "code",
   "execution_count": 371,
   "id": "59548493",
   "metadata": {},
   "outputs": [
    {
     "data": {
      "text/plain": [
       "0.3876529477196885"
      ]
     },
     "execution_count": 371,
     "metadata": {},
     "output_type": "execute_result"
    }
   ],
   "source": [
    "# not mutually exclusive\n",
    "# p(a u b)=p(a)+p(b)-p(a n b)\n",
    "# probability that a randomly chosen student is a male\n",
    "a=29/62\n",
    "# probability that a randomly chosen student has full-time employment\n",
    "b=10/62\n",
    "# probability that a randomly chosen male has full-time employment\n",
    "a_n_b=7/29\n",
    "\n",
    "a+b-a_n_b"
   ]
  },
  {
   "cell_type": "markdown",
   "id": "b8e6f4e1",
   "metadata": {},
   "source": [
    "**Inference**"
   ]
  },
  {
   "cell_type": "markdown",
   "id": "2f2a1191",
   "metadata": {},
   "source": [
    "Probability that a randomly chosen student is a male or has full-time employment is :\n",
    " 0.38765   or.  38.76%\n"
   ]
  },
  {
   "cell_type": "markdown",
   "id": "05c1f627",
   "metadata": {},
   "source": [
    "2.5.2. Find the conditional probability that given a female student is randomly chosen, she is majoring in international business or management."
   ]
  },
  {
   "cell_type": "code",
   "execution_count": 126,
   "id": "0242d5ad",
   "metadata": {},
   "outputs": [
    {
     "data": {
      "text/html": [
       "<div>\n",
       "<style scoped>\n",
       "    .dataframe tbody tr th:only-of-type {\n",
       "        vertical-align: middle;\n",
       "    }\n",
       "\n",
       "    .dataframe tbody tr th {\n",
       "        vertical-align: top;\n",
       "    }\n",
       "\n",
       "    .dataframe thead th {\n",
       "        text-align: right;\n",
       "    }\n",
       "</style>\n",
       "<table border=\"1\" class=\"dataframe\">\n",
       "  <thead>\n",
       "    <tr style=\"text-align: right;\">\n",
       "      <th>Major</th>\n",
       "      <th>Accounting</th>\n",
       "      <th>CIS</th>\n",
       "      <th>Economics/Finance</th>\n",
       "      <th>International Business</th>\n",
       "      <th>Management</th>\n",
       "      <th>Other</th>\n",
       "      <th>Retailing/Marketing</th>\n",
       "      <th>Undecided</th>\n",
       "      <th>All</th>\n",
       "    </tr>\n",
       "    <tr>\n",
       "      <th>Gender</th>\n",
       "      <th></th>\n",
       "      <th></th>\n",
       "      <th></th>\n",
       "      <th></th>\n",
       "      <th></th>\n",
       "      <th></th>\n",
       "      <th></th>\n",
       "      <th></th>\n",
       "      <th></th>\n",
       "    </tr>\n",
       "  </thead>\n",
       "  <tbody>\n",
       "    <tr>\n",
       "      <th>Female</th>\n",
       "      <td>3</td>\n",
       "      <td>3</td>\n",
       "      <td>7</td>\n",
       "      <td>4</td>\n",
       "      <td>4</td>\n",
       "      <td>3</td>\n",
       "      <td>9</td>\n",
       "      <td>0</td>\n",
       "      <td>33</td>\n",
       "    </tr>\n",
       "    <tr>\n",
       "      <th>Male</th>\n",
       "      <td>4</td>\n",
       "      <td>1</td>\n",
       "      <td>4</td>\n",
       "      <td>2</td>\n",
       "      <td>6</td>\n",
       "      <td>4</td>\n",
       "      <td>5</td>\n",
       "      <td>3</td>\n",
       "      <td>29</td>\n",
       "    </tr>\n",
       "    <tr>\n",
       "      <th>All</th>\n",
       "      <td>7</td>\n",
       "      <td>4</td>\n",
       "      <td>11</td>\n",
       "      <td>6</td>\n",
       "      <td>10</td>\n",
       "      <td>7</td>\n",
       "      <td>14</td>\n",
       "      <td>3</td>\n",
       "      <td>62</td>\n",
       "    </tr>\n",
       "  </tbody>\n",
       "</table>\n",
       "</div>"
      ],
      "text/plain": [
       "Major   Accounting  CIS  Economics/Finance  International Business  \\\n",
       "Gender                                                               \n",
       "Female           3    3                  7                       4   \n",
       "Male             4    1                  4                       2   \n",
       "All              7    4                 11                       6   \n",
       "\n",
       "Major   Management  Other  Retailing/Marketing  Undecided  All  \n",
       "Gender                                                          \n",
       "Female           4      3                    9          0   33  \n",
       "Male             6      4                    5          3   29  \n",
       "All             10      7                   14          3   62  "
      ]
     },
     "execution_count": 126,
     "metadata": {},
     "output_type": "execute_result"
    }
   ],
   "source": [
    "pd.crosstab(index=df2['Gender'], columns=df2['Major'],margins=True)"
   ]
  },
  {
   "cell_type": "code",
   "execution_count": 376,
   "id": "af696767",
   "metadata": {},
   "outputs": [
    {
     "data": {
      "text/plain": [
       "0.24242424242424243"
      ]
     },
     "execution_count": 376,
     "metadata": {},
     "output_type": "execute_result"
    }
   ],
   "source": [
    "# probability that given a female student \n",
    "a= 33/62\n",
    "# female student is majoring in international business\n",
    "b= 4/33\n",
    "# female student is majoring in management\n",
    "c=4/33\n",
    "(4/33)+(4/33)"
   ]
  },
  {
   "cell_type": "markdown",
   "id": "5e922d31",
   "metadata": {},
   "source": [
    "**Inference**"
   ]
  },
  {
   "cell_type": "markdown",
   "id": "e1c7b237",
   "metadata": {},
   "source": [
    "Probability that given a female student is randomly chosen, she is majoring in international business or management is : 0.242424    or    24.24%"
   ]
  },
  {
   "cell_type": "markdown",
   "id": "59a7d859",
   "metadata": {},
   "source": [
    "2.6.  Construct a contingency table of Gender and Intent to Graduate at 2 levels (Yes/No). The Undecided students are not considered now and the table is a 2x2 table. Do you think the graduate intention and being female are independent events?"
   ]
  },
  {
   "cell_type": "code",
   "execution_count": 54,
   "id": "0455a9b6",
   "metadata": {},
   "outputs": [
    {
     "data": {
      "text/html": [
       "<div>\n",
       "<style scoped>\n",
       "    .dataframe tbody tr th:only-of-type {\n",
       "        vertical-align: middle;\n",
       "    }\n",
       "\n",
       "    .dataframe tbody tr th {\n",
       "        vertical-align: top;\n",
       "    }\n",
       "\n",
       "    .dataframe thead th {\n",
       "        text-align: right;\n",
       "    }\n",
       "</style>\n",
       "<table border=\"1\" class=\"dataframe\">\n",
       "  <thead>\n",
       "    <tr style=\"text-align: right;\">\n",
       "      <th></th>\n",
       "      <th>Gender</th>\n",
       "      <th>Grad Intention</th>\n",
       "    </tr>\n",
       "  </thead>\n",
       "  <tbody>\n",
       "    <tr>\n",
       "      <th>0</th>\n",
       "      <td>Female</td>\n",
       "      <td>Yes</td>\n",
       "    </tr>\n",
       "    <tr>\n",
       "      <th>1</th>\n",
       "      <td>Male</td>\n",
       "      <td>Yes</td>\n",
       "    </tr>\n",
       "    <tr>\n",
       "      <th>2</th>\n",
       "      <td>Male</td>\n",
       "      <td>Yes</td>\n",
       "    </tr>\n",
       "    <tr>\n",
       "      <th>3</th>\n",
       "      <td>Male</td>\n",
       "      <td>Yes</td>\n",
       "    </tr>\n",
       "    <tr>\n",
       "      <th>8</th>\n",
       "      <td>Female</td>\n",
       "      <td>Yes</td>\n",
       "    </tr>\n",
       "  </tbody>\n",
       "</table>\n",
       "</div>"
      ],
      "text/plain": [
       "   Gender Grad Intention\n",
       "0  Female            Yes\n",
       "1    Male            Yes\n",
       "2    Male            Yes\n",
       "3    Male            Yes\n",
       "8  Female            Yes"
      ]
     },
     "execution_count": 54,
     "metadata": {},
     "output_type": "execute_result"
    }
   ],
   "source": [
    "df2_1=df2[['Gender','Grad Intention']]\n",
    "df2_1.drop(df2_1.index[df2_1['Grad Intention'] == 'Undecided'], inplace = True)\n",
    "df2_1.head()"
   ]
  },
  {
   "cell_type": "code",
   "execution_count": 58,
   "id": "eb1b709d",
   "metadata": {},
   "outputs": [
    {
     "data": {
      "text/html": [
       "<div>\n",
       "<style scoped>\n",
       "    .dataframe tbody tr th:only-of-type {\n",
       "        vertical-align: middle;\n",
       "    }\n",
       "\n",
       "    .dataframe tbody tr th {\n",
       "        vertical-align: top;\n",
       "    }\n",
       "\n",
       "    .dataframe thead th {\n",
       "        text-align: right;\n",
       "    }\n",
       "</style>\n",
       "<table border=\"1\" class=\"dataframe\">\n",
       "  <thead>\n",
       "    <tr style=\"text-align: right;\">\n",
       "      <th>Grad Intention</th>\n",
       "      <th>No</th>\n",
       "      <th>Yes</th>\n",
       "      <th>All</th>\n",
       "    </tr>\n",
       "    <tr>\n",
       "      <th>Gender</th>\n",
       "      <th></th>\n",
       "      <th></th>\n",
       "      <th></th>\n",
       "    </tr>\n",
       "  </thead>\n",
       "  <tbody>\n",
       "    <tr>\n",
       "      <th>Female</th>\n",
       "      <td>9</td>\n",
       "      <td>11</td>\n",
       "      <td>20</td>\n",
       "    </tr>\n",
       "    <tr>\n",
       "      <th>Male</th>\n",
       "      <td>3</td>\n",
       "      <td>17</td>\n",
       "      <td>20</td>\n",
       "    </tr>\n",
       "    <tr>\n",
       "      <th>All</th>\n",
       "      <td>12</td>\n",
       "      <td>28</td>\n",
       "      <td>40</td>\n",
       "    </tr>\n",
       "  </tbody>\n",
       "</table>\n",
       "</div>"
      ],
      "text/plain": [
       "Grad Intention  No  Yes  All\n",
       "Gender                      \n",
       "Female           9   11   20\n",
       "Male             3   17   20\n",
       "All             12   28   40"
      ]
     },
     "execution_count": 58,
     "metadata": {},
     "output_type": "execute_result"
    }
   ],
   "source": [
    "pd.crosstab(index=df2_1['Gender'],columns=df2_1['Grad Intention'],margins=True,colnames=['Grad Intention'])"
   ]
  },
  {
   "cell_type": "code",
   "execution_count": 62,
   "id": "a856776a",
   "metadata": {},
   "outputs": [
    {
     "data": {
      "text/plain": [
       "0.35"
      ]
     },
     "execution_count": 62,
     "metadata": {},
     "output_type": "execute_result"
    }
   ],
   "source": [
    "# a_n_b = a * b for independent event\n",
    "\n",
    "# Probability of being female\n",
    "a=20/40\n",
    "# Probability of graduate intention \n",
    "b=28/40\n",
    "# graduate intention and being female\n",
    "# a n b = 11/20 = 0.55\n",
    "\n",
    "a_n_b =(20/40) * (28/40) \n",
    "a_n_b \n"
   ]
  },
  {
   "cell_type": "markdown",
   "id": "7c8ade3d",
   "metadata": {},
   "source": [
    "**Inference**"
   ]
  },
  {
   "cell_type": "markdown",
   "id": "f222fefe",
   "metadata": {},
   "source": [
    "a_n_b != 0.55\\\n",
    "Here, p(A n B)  is not equal to p(A) * p(B), which is clearly saying that the graduate intention and being female are NOT independent events"
   ]
  },
  {
   "cell_type": "markdown",
   "id": "c0daa288",
   "metadata": {},
   "source": [
    "2.7. Note that there are four numerical (continuous) variables in the data set, GPA, Salary, Spending, and Text Messages.\n",
    "\n",
    "Answer the following questions based on the data\n",
    "\n",
    "2.7.1. If a student is chosen randomly, what is the probability that his/her GPA is less than 3?\n",
    "\n"
   ]
  },
  {
   "cell_type": "code",
   "execution_count": 415,
   "id": "8951fd9e",
   "metadata": {
    "scrolled": true
   },
   "outputs": [
    {
     "data": {
      "text/plain": [
       "0.37433256594525566"
      ]
     },
     "execution_count": 415,
     "metadata": {},
     "output_type": "execute_result"
    }
   ],
   "source": [
    "# From the given data we know the sample. so it is dicreet distribution. Also Mean and stdev can be known \n",
    "# using GPA. so Poisson Distributiob will be the best solution\n",
    "np.std(df2['GPA'])"
   ]
  },
  {
   "cell_type": "code",
   "execution_count": 414,
   "id": "f057e99b",
   "metadata": {},
   "outputs": [
    {
     "data": {
      "text/plain": [
       "3.129032258064516"
      ]
     },
     "execution_count": 414,
     "metadata": {},
     "output_type": "execute_result"
    }
   ],
   "source": [
    "np.mean(df2['GPA'])"
   ]
  },
  {
   "cell_type": "code",
   "execution_count": 423,
   "id": "bf4230bd",
   "metadata": {},
   "outputs": [
    {
     "data": {
      "text/plain": [
       "0.3949181347042842"
      ]
     },
     "execution_count": 423,
     "metadata": {},
     "output_type": "execute_result"
    }
   ],
   "source": [
    "# p(x) < 3,so cumulative of 2 will give the answer\n",
    "stats.poisson.cdf(2,3.129)"
   ]
  },
  {
   "cell_type": "markdown",
   "id": "f0bcaa91",
   "metadata": {},
   "source": [
    "**Inference**"
   ]
  },
  {
   "cell_type": "markdown",
   "id": "b1938ff9",
   "metadata": {},
   "source": [
    "Applying the derived inputs in Poisson distribution in Python the output is  0.39491 or 39.49%"
   ]
  },
  {
   "cell_type": "markdown",
   "id": "ce8c112f",
   "metadata": {},
   "source": [
    "2.7.2. Find the conditional probability that a randomly selected male earns 50 or more. Find the conditional probability that a randomly selected female earns 50 or more."
   ]
  },
  {
   "cell_type": "code",
   "execution_count": 468,
   "id": "f1486fc0",
   "metadata": {},
   "outputs": [
    {
     "data": {
      "text/html": [
       "<div>\n",
       "<style scoped>\n",
       "    .dataframe tbody tr th:only-of-type {\n",
       "        vertical-align: middle;\n",
       "    }\n",
       "\n",
       "    .dataframe tbody tr th {\n",
       "        vertical-align: top;\n",
       "    }\n",
       "\n",
       "    .dataframe thead th {\n",
       "        text-align: right;\n",
       "    }\n",
       "</style>\n",
       "<table border=\"1\" class=\"dataframe\">\n",
       "  <thead>\n",
       "    <tr style=\"text-align: right;\">\n",
       "      <th></th>\n",
       "      <th>Salary</th>\n",
       "    </tr>\n",
       "    <tr>\n",
       "      <th>Gender</th>\n",
       "      <th></th>\n",
       "    </tr>\n",
       "  </thead>\n",
       "  <tbody>\n",
       "    <tr>\n",
       "      <th>Female</th>\n",
       "      <td>48.787879</td>\n",
       "    </tr>\n",
       "    <tr>\n",
       "      <th>Male</th>\n",
       "      <td>48.275862</td>\n",
       "    </tr>\n",
       "  </tbody>\n",
       "</table>\n",
       "</div>"
      ],
      "text/plain": [
       "           Salary\n",
       "Gender           \n",
       "Female  48.787879\n",
       "Male    48.275862"
      ]
     },
     "execution_count": 468,
     "metadata": {},
     "output_type": "execute_result"
    }
   ],
   "source": [
    "pd.pivot_table(data=df2,index='Gender',values='Salary',aggfunc='mean')"
   ]
  },
  {
   "cell_type": "code",
   "execution_count": 469,
   "id": "8aa4b48e",
   "metadata": {
    "scrolled": true
   },
   "outputs": [
    {
     "data": {
      "text/html": [
       "<div>\n",
       "<style scoped>\n",
       "    .dataframe tbody tr th:only-of-type {\n",
       "        vertical-align: middle;\n",
       "    }\n",
       "\n",
       "    .dataframe tbody tr th {\n",
       "        vertical-align: top;\n",
       "    }\n",
       "\n",
       "    .dataframe thead th {\n",
       "        text-align: right;\n",
       "    }\n",
       "</style>\n",
       "<table border=\"1\" class=\"dataframe\">\n",
       "  <thead>\n",
       "    <tr style=\"text-align: right;\">\n",
       "      <th></th>\n",
       "      <th>Salary</th>\n",
       "    </tr>\n",
       "    <tr>\n",
       "      <th>Gender</th>\n",
       "      <th></th>\n",
       "    </tr>\n",
       "  </thead>\n",
       "  <tbody>\n",
       "    <tr>\n",
       "      <th>Female</th>\n",
       "      <td>13.272405</td>\n",
       "    </tr>\n",
       "    <tr>\n",
       "      <th>Male</th>\n",
       "      <td>10.793174</td>\n",
       "    </tr>\n",
       "  </tbody>\n",
       "</table>\n",
       "</div>"
      ],
      "text/plain": [
       "           Salary\n",
       "Gender           \n",
       "Female  13.272405\n",
       "Male    10.793174"
      ]
     },
     "execution_count": 469,
     "metadata": {},
     "output_type": "execute_result"
    }
   ],
   "source": [
    "pd.pivot_table(data=df2,index='Gender',values='Salary',aggfunc='std')"
   ]
  },
  {
   "cell_type": "code",
   "execution_count": 470,
   "id": "90ee4f49",
   "metadata": {},
   "outputs": [
    {
     "data": {
      "text/plain": [
       "0.43654161717347906"
      ]
     },
     "execution_count": 470,
     "metadata": {},
     "output_type": "execute_result"
    }
   ],
   "source": [
    "# probability that a randomly selected male earns 50 or more\n",
    "# p(x1)>=50\n",
    "1-stats.norm.cdf(50,48.275862,10.793174)"
   ]
  },
  {
   "cell_type": "markdown",
   "id": "c3f5364b",
   "metadata": {},
   "source": [
    "**Inference**\n"
   ]
  },
  {
   "cell_type": "markdown",
   "id": "71d49811",
   "metadata": {},
   "source": [
    "Probability that a randomly selected male earns 50 or more is 0.43654 or 43.65%"
   ]
  },
  {
   "cell_type": "code",
   "execution_count": 471,
   "id": "4245a4f6",
   "metadata": {},
   "outputs": [
    {
     "data": {
      "text/plain": [
       "0.46361661977806423"
      ]
     },
     "execution_count": 471,
     "metadata": {},
     "output_type": "execute_result"
    }
   ],
   "source": [
    "# Find the conditional probability that a randomly selected female earns 50 or more\n",
    "# p(x2)>=50\n",
    "1-stats.norm.cdf(50,48.787879,13.272405)"
   ]
  },
  {
   "cell_type": "markdown",
   "id": "3f79315e",
   "metadata": {},
   "source": [
    "**Inference**\n"
   ]
  },
  {
   "cell_type": "markdown",
   "id": "8794d32b",
   "metadata": {},
   "source": [
    "Probability that a randomly selected Female earns 50 or more is 0.46361 or 46.61%"
   ]
  },
  {
   "cell_type": "markdown",
   "id": "b38ecf5a",
   "metadata": {},
   "source": [
    "2.8. Note that there are four numerical (continuous) variables in the data set, GPA, Salary, Spending, and Text Messages. For each of them comment whether they follow a normal distribution. Write a note summarizing your conclusions."
   ]
  },
  {
   "cell_type": "code",
   "execution_count": 497,
   "id": "09f04d59",
   "metadata": {},
   "outputs": [
    {
     "data": {
      "text/plain": [
       "<AxesSubplot:xlabel='Text Messages', ylabel='Density'>"
      ]
     },
     "execution_count": 497,
     "metadata": {},
     "output_type": "execute_result"
    },
    {
     "data": {
      "image/png": "[encoded data removed]",
      "text/plain": [
       "<Figure size 1080x720 with 4 Axes>"
      ]
     },
     "metadata": {},
     "output_type": "display_data"
    }
   ],
   "source": [
    "plt.figure(figsize=(15,10))\n",
    "plt.subplot(2,2,1)\n",
    "sns.distplot(df2['GPA'],color='red')\n",
    "plt.subplot(2,2,2)\n",
    "sns.distplot(df2['Salary'],color='indigo')\n",
    "plt.subplot(2,2,3)\n",
    "sns.distplot(df2['Spending'],color='green')\n",
    "plt.subplot(2,2,4)\n",
    "sns.distplot(df2['Text Messages'],color='brown')"
   ]
  },
  {
   "cell_type": "code",
   "execution_count": 498,
   "id": "2b904b58",
   "metadata": {},
   "outputs": [
    {
     "data": {
      "text/plain": [
       "GPA             -0.314600\n",
       "Salary           0.534701\n",
       "Spending         1.585915\n",
       "Text Messages    1.295808\n",
       "dtype: float64"
      ]
     },
     "execution_count": 498,
     "metadata": {},
     "output_type": "execute_result"
    }
   ],
   "source": [
    "df2[['GPA','Salary','Spending','Text Messages']].skew()"
   ]
  },
  {
   "cell_type": "markdown",
   "id": "2355e7aa",
   "metadata": {},
   "source": [
    "**Inference**\n"
   ]
  },
  {
   "cell_type": "markdown",
   "id": "36127372",
   "metadata": {},
   "source": [
    "GPA (Left Skewed):= Students Average GPA is close to normal distribution, \n",
    "    but few students getting less GPA. Majority of studenst getting good GPA \n",
    "\n",
    "Salary (Right Skewed):= Students Average Salary is very very close to normal distribution, \n",
    "     Most of the studens getting good Salsry,  very very few students getting less salary.\n",
    "        \n",
    "Spending (Right Skewed):=From the given data set, Students spending more money and very few students spending less\\\n",
    "Text Messages (Right Skewed):=similarly, Students sending more Text messages, only very few are sending less messages\n",
    "\n",
    "\n"
   ]
  },
  {
   "cell_type": "markdown",
   "id": "ab51940b",
   "metadata": {},
   "source": [
    "# Problem 3"
   ]
  },
  {
   "cell_type": "markdown",
   "id": "954623ff",
   "metadata": {},
   "source": [
    "An important quality characteristic used by the manufacturers of ABC asphalt shingles is the amount of moisture the shingles contain when they are packaged. Customers may feel that they have purchased a product lacking in quality if they find moisture and wet shingles inside the packaging.   In some cases, excessive moisture can cause the granules attached to the shingles for texture and coloring purposes to fall off the shingles resulting in appearance problems. To monitor the amount of moisture present, the company conducts moisture tests. A shingle is weighed and then dried. The shingle is then reweighed, and based on the amount of moisture taken out of the product, the pounds of moisture per 100 square feet are calculated. The company would like to show that the mean moisture content is less than 0.35 pounds per 100 square feet.\n",
    "\n",
    "The file (A & B shingles.csv) includes 36 measurements (in pounds per 100 square feet) for A shingles and 31 for B shingles."
   ]
  },
  {
   "cell_type": "markdown",
   "id": "530f169e",
   "metadata": {},
   "source": [
    "3.1 Do you think there is evidence that means moisture contents in both types of shingles are within the permissible limits? State your conclusions clearly showing all steps."
   ]
  },
  {
   "cell_type": "code",
   "execution_count": 610,
   "id": "a332da75",
   "metadata": {
    "scrolled": true
   },
   "outputs": [
    {
     "data": {
      "text/html": [
       "<div>\n",
       "<style scoped>\n",
       "    .dataframe tbody tr th:only-of-type {\n",
       "        vertical-align: middle;\n",
       "    }\n",
       "\n",
       "    .dataframe tbody tr th {\n",
       "        vertical-align: top;\n",
       "    }\n",
       "\n",
       "    .dataframe thead th {\n",
       "        text-align: right;\n",
       "    }\n",
       "</style>\n",
       "<table border=\"1\" class=\"dataframe\">\n",
       "  <thead>\n",
       "    <tr style=\"text-align: right;\">\n",
       "      <th></th>\n",
       "      <th>A</th>\n",
       "      <th>B</th>\n",
       "    </tr>\n",
       "  </thead>\n",
       "  <tbody>\n",
       "    <tr>\n",
       "      <th>0</th>\n",
       "      <td>0.44</td>\n",
       "      <td>0.14</td>\n",
       "    </tr>\n",
       "    <tr>\n",
       "      <th>1</th>\n",
       "      <td>0.61</td>\n",
       "      <td>0.15</td>\n",
       "    </tr>\n",
       "    <tr>\n",
       "      <th>2</th>\n",
       "      <td>0.47</td>\n",
       "      <td>0.31</td>\n",
       "    </tr>\n",
       "    <tr>\n",
       "      <th>3</th>\n",
       "      <td>0.30</td>\n",
       "      <td>0.16</td>\n",
       "    </tr>\n",
       "    <tr>\n",
       "      <th>4</th>\n",
       "      <td>0.15</td>\n",
       "      <td>0.37</td>\n",
       "    </tr>\n",
       "  </tbody>\n",
       "</table>\n",
       "</div>"
      ],
      "text/plain": [
       "      A     B\n",
       "0  0.44  0.14\n",
       "1  0.61  0.15\n",
       "2  0.47  0.31\n",
       "3  0.30  0.16\n",
       "4  0.15  0.37"
      ]
     },
     "execution_count": 610,
     "metadata": {},
     "output_type": "execute_result"
    }
   ],
   "source": [
    "df3=pd.read_csv('A+&+B+shingles.csv')\n",
    "df3.head()"
   ]
  },
  {
   "cell_type": "markdown",
   "id": "9364768a",
   "metadata": {},
   "source": [
    "The company would like to show that the mean moisture content is less than 0.35 pounds per 100 square feet.\\\n",
    "based on the data the company like to show (i.e. status quo)\\\n",
    "so Ho<=0.35\\\n",
    "Customers feels that they have purchased a product lacking in quality, which means the moisture is more than 0.35\\\n",
    "H(a)>0.35"
   ]
  },
  {
   "cell_type": "markdown",
   "id": "35f99bb8",
   "metadata": {},
   "source": [
    "since population stdev is not given T- Test is best option\\\n",
    "also it is a 1-tail test(u < 0.35)\\\n",
    "since significance level(alpha) is not there we can take  0.05 by default\\"
   ]
  },
  {
   "cell_type": "markdown",
   "id": "adf1b096",
   "metadata": {},
   "source": [
    "**T- Test for A Shingles**"
   ]
  },
  {
   "cell_type": "code",
   "execution_count": 536,
   "id": "6deb21ca",
   "metadata": {},
   "outputs": [
    {
     "name": "stdout",
     "output_type": "stream",
     "text": [
      "-1.4735046253382782 0.14955266289815025\n"
     ]
    },
    {
     "data": {
      "text/plain": [
       "0.07477633144907513"
      ]
     },
     "execution_count": 536,
     "metadata": {},
     "output_type": "execute_result"
    }
   ],
   "source": [
    "t, p_value=stats.ttest_1samp(df3['A'],0.35)\n",
    "print (t, p_value)\n",
    "p_value/2 # since it is 1- tail test p_value should be divided by 2\n"
   ]
  },
  {
   "cell_type": "markdown",
   "id": "94f42689",
   "metadata": {},
   "source": [
    "since p_value is > than significance level, failed to reject Ho ,\\\n",
    "FOr Shingles 'A', the company have enough evidence to show that the mean moisture content \\\n",
    "is less than 0.35 pounds per 100 square feet."
   ]
  },
  {
   "cell_type": "markdown",
   "id": "73a5e07e",
   "metadata": {},
   "source": [
    "**T- Test for B Shingles**"
   ]
  },
  {
   "cell_type": "code",
   "execution_count": 600,
   "id": "463f7faa",
   "metadata": {},
   "outputs": [
    {
     "name": "stdout",
     "output_type": "stream",
     "text": [
      "-4.311710524179449 0.00012557068120902648\n"
     ]
    },
    {
     "data": {
      "text/plain": [
       "6.278534060451324e-05"
      ]
     },
     "execution_count": 600,
     "metadata": {},
     "output_type": "execute_result"
    }
   ],
   "source": [
    "t, p_value=stats.ttest_1samp(df3['B'],0.35,nan_policy='omit')\n",
    "print (t, p_value)\n",
    "p_value/2"
   ]
  },
  {
   "cell_type": "markdown",
   "id": "287b9f64",
   "metadata": {},
   "source": [
    "since p_value is < than significance level, reject Ho ,\\\n",
    "For shingles 'B', there is evough evidence to show Customers feeling towards the product quality is lacking\\\n",
    "(i.e. the moisture content is more than 0.35)\n",
    "\n"
   ]
  },
  {
   "cell_type": "markdown",
   "id": "3f6d5771",
   "metadata": {},
   "source": [
    "3.2 Do you think that the population mean for shingles A and B are equal? Form the hypothesis and conduct the test of the hypothesis. What assumption do you need to check before the test for equality of means is performed?"
   ]
  },
  {
   "cell_type": "markdown",
   "id": "d9874416",
   "metadata": {},
   "source": [
    "Do you think that the population mean for shingles A and B are equal,\\\n",
    "so Ho(mu) population mean for shingles A = population mean for shingles B\\\n",
    "\n",
    "Eventually, H1(mu) population mean for shingles A != population mean for shingles B"
   ]
  },
  {
   "cell_type": "code",
   "execution_count": 588,
   "id": "329d88c3",
   "metadata": {},
   "outputs": [
    {
     "name": "stdout",
     "output_type": "stream",
     "text": [
      "sample mean of A :  0.3166666666666666\n",
      "sample stdev of A :  0.13383239933256486\n",
      "sample mean of B :  0.23555555555555557\n",
      "sample stdev of B :  0.15702873842503487\n"
     ]
    }
   ],
   "source": [
    "print('sample mean of A : ',np.mean(df3['A']))\n",
    "print('sample stdev of A : ',np.std(df3['A']))\n",
    "print('sample mean of B : ',np.mean(df3['B']))\n",
    "print('sample stdev of B : ',np.std(df3['B']))"
   ]
  },
  {
   "cell_type": "markdown",
   "id": "c5a83380",
   "metadata": {},
   "source": [
    "x1=0.31666\n",
    "s1=0.13383\n",
    "n1=36\n",
    "x2=0.23555\n",
    "s2=0.15702\n",
    "n2=31\n",
    "                       Sample        Sample\n",
    "            Size        Mean        Variance\n",
    "Sample A    36          0.31666      0.13383\n",
    "Sample B    31          0.23555      0.15702"
   ]
  },
  {
   "cell_type": "code",
   "execution_count": 607,
   "id": "d1b9907f",
   "metadata": {},
   "outputs": [],
   "source": [
    "# stats.ttest_ind(mean1=0.31666, std1=np.sqrt(0.13383), nobs1=36,\n",
    "#                       mean2=0.23555, std2=np.sqrt(0.15702), nobs2=31)"
   ]
  },
  {
   "cell_type": "code",
   "execution_count": 612,
   "id": "8055d3af",
   "metadata": {},
   "outputs": [
    {
     "data": {
      "text/plain": [
       "Ttest_indResult(statistic=2.3257710269401746, pvalue=0.023007859248632315)"
      ]
     },
     "execution_count": 612,
     "metadata": {},
     "output_type": "execute_result"
    }
   ],
   "source": [
    "p_value=stats.ttest_ind(df3['A'],df3['B'],equal_var=False,nan_policy='omit')\n",
    "p_value"
   ]
  },
  {
   "cell_type": "markdown",
   "id": "9f5b3dcc",
   "metadata": {},
   "source": [
    "since p_value is < than significance level, reject Ho ,\n",
    "\n",
    "Hence the population mean for shingles A is not equal to population mean for shingles B\n"
   ]
  },
  {
   "cell_type": "markdown",
   "id": "565b69b7",
   "metadata": {},
   "source": [
    "My assumption is Shingles 'A' having more number of measuremnent compared to SHingles B.\\\n",
    "If Shingles 'B' also perform same numner of measurement, may be there is more chances for\\ \n",
    "equality of means. which the COmpany can have more strong evidence to show that Both the shingles\\\n",
    "contains the moisture level withing permissable limit (i.e. less than 0.35 pounds per 100 square feet)\n"
   ]
  }
 ],
 "metadata": {
  "kernelspec": {
   "display_name": "Python 3",
   "language": "python",
   "name": "python3"
  },
  "language_info": {
   "codemirror_mode": {
    "name": "ipython",
    "version": 3
   },
   "file_extension": ".py",
   "mimetype": "text/x-python",
   "name": "python",
   "nbconvert_exporter": "python",
   "pygments_lexer": "ipython3",
   "version": "3.8.8"
  }
 },
 "nbformat": 4,
 "nbformat_minor": 5
}
